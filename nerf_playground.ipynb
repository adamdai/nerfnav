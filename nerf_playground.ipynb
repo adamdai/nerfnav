{
 "cells": [
  {
   "cell_type": "code",
   "execution_count": null,
   "metadata": {},
   "outputs": [],
   "source": [
    "import plotly.graph_objects as go\n",
    "import pymesh\n",
    "\n",
    "%load_ext autoreload\n",
    "%autoreload 2"
   ]
  },
  {
   "cell_type": "code",
   "execution_count": null,
   "metadata": {},
   "outputs": [],
   "source": [
    "mesh = pymesh.load_mesh(\"data/3dmodels/landscape_example.obj\")"
   ]
  },
  {
   "cell_type": "code",
   "execution_count": null,
   "metadata": {},
   "outputs": [],
   "source": [
    "mesh.num_vertices"
   ]
  },
  {
   "cell_type": "code",
   "execution_count": null,
   "metadata": {},
   "outputs": [],
   "source": [
    "mesh.faces"
   ]
  },
  {
   "cell_type": "code",
   "execution_count": null,
   "metadata": {},
   "outputs": [],
   "source": [
    "# Plot point cloud\n",
    "fig = go.Figure(data=[go.Scatter3d(\n",
    "    x=mesh.vertices[:, 0],\n",
    "    y=mesh.vertices[:, 1],\n",
    "    z=mesh.vertices[:, 2],\n",
    "    mode='markers',\n",
    "    marker=dict(\n",
    "        size=2,\n",
    "        color=mesh.vertices[:, 2],                # set color to an array/list of desired values\n",
    "        colorscale='Viridis',   # choose a colorscale\n",
    "        opacity=0.8\n",
    "    )\n",
    ")])\n",
    "fig.update_layout(width=1600, height=900)\n",
    "fig.update_layout(scene = dict(aspectmode='data'))\n",
    "fig.show()"
   ]
  },
  {
   "cell_type": "code",
   "execution_count": null,
   "metadata": {},
   "outputs": [],
   "source": [
    "# Plot mesh\n",
    "fig = go.Figure(data=[go.Mesh3d(x=mesh.vertices[:,0],\n",
    "                                y=mesh.vertices[:,1],\n",
    "                                z=mesh.vertices[:,2],\n",
    "                                i=mesh.faces[:,0],\n",
    "                                j=mesh.faces[:,1],\n",
    "                                k=mesh.faces[:,2],\n",
    "                                color='lightpink',\n",
    "                                opacity=0.50)])\n",
    "# Set figsize\n",
    "fig.update_layout(width=1600, height=900)\n",
    "fig.update_layout(scene = dict(aspectmode='data'))\n",
    "fig.show()"
   ]
  },
  {
   "cell_type": "code",
   "execution_count": null,
   "metadata": {},
   "outputs": [],
   "source": []
  }
 ],
 "metadata": {
  "kernelspec": {
   "display_name": "nerf",
   "language": "python",
   "name": "python3"
  },
  "language_info": {
   "codemirror_mode": {
    "name": "ipython",
    "version": 3
   },
   "file_extension": ".py",
   "mimetype": "text/x-python",
   "name": "python",
   "nbconvert_exporter": "python",
   "pygments_lexer": "ipython3",
   "version": "3.9.16"
  },
  "orig_nbformat": 4
 },
 "nbformat": 4,
 "nbformat_minor": 2
}
