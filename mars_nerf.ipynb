{
 "cells": [
  {
   "cell_type": "code",
   "execution_count": null,
   "metadata": {},
   "outputs": [],
   "source": [
    "import numpy as np\n",
    "import os\n",
    "from matplotlib import image\n",
    "import matplotlib.pyplot as plt\n",
    "from mpl_toolkits.axes_grid1 import make_axes_locatable\n",
    "import cv2 as cv\n",
    "\n",
    "# autoreload\n",
    "%load_ext autoreload\n",
    "%autoreload 2"
   ]
  },
  {
   "attachments": {},
   "cell_type": "markdown",
   "metadata": {},
   "source": [
    "Stereo to elevation map"
   ]
  },
  {
   "cell_type": "code",
   "execution_count": null,
   "metadata": {},
   "outputs": [],
   "source": [
    "kitti_path = os.path.join('data', 'stereo_imgs', 'kitti', 'seq_00')\n",
    "\n",
    "imgL = cv.imread(os.path.join(kitti_path, 'left_000000.png'), cv.IMREAD_GRAYSCALE)\n",
    "imgR = cv.imread(os.path.join(kitti_path, 'right_000000.png'), cv.IMREAD_GRAYSCALE)\n",
    "stereo = cv.StereoBM_create(numDisparities=16, blockSize=15)\n",
    "disparity = stereo.compute(imgL,imgR)\n",
    "plt.imshow(disparity,'gray')\n",
    "plt.show()"
   ]
  },
  {
   "cell_type": "code",
   "execution_count": null,
   "metadata": {},
   "outputs": [],
   "source": [
    "imgL = cv.imread('sol775_lmst154839_left.png', cv.IMREAD_GRAYSCALE)\n",
    "imgR = cv.imread('sol775_lmst154839_right.png', cv.IMREAD_GRAYSCALE)\n",
    "stereo = cv.StereoBM_create(numDisparities=16, blockSize=7)\n",
    "disparity = stereo.compute(imgL,imgR)\n",
    "plt.imshow(disparity,'gray')\n",
    "plt.show()"
   ]
  },
  {
   "cell_type": "code",
   "execution_count": null,
   "metadata": {},
   "outputs": [],
   "source": [
    "left = image.imread('sol775_lmst154839_left.png')\n",
    "right = image.imread('sol775_lmst154839_right.png')\n",
    "\n",
    "# Display the images\n",
    "fig, (ax1, ax2) = plt.subplots(1, 2, figsize=(15, 15))\n",
    "ax1.imshow(left)\n",
    "ax1.set_title('Left image')\n",
    "ax2.imshow(right)\n",
    "ax2.set_title('Right image')\n",
    "plt.show()"
   ]
  },
  {
   "attachments": {},
   "cell_type": "markdown",
   "metadata": {},
   "source": [
    "Generate terrain map from sample image"
   ]
  },
  {
   "cell_type": "code",
   "execution_count": null,
   "metadata": {},
   "outputs": [],
   "source": [
    "def rgb2gray(rgb):\n",
    "    return np.dot(rgb[...,:3], [0.2989, 0.5870, 0.1140])"
   ]
  },
  {
   "cell_type": "code",
   "execution_count": null,
   "metadata": {},
   "outputs": [],
   "source": [
    "img = image.imread('data/jezero.png')\n",
    "plt.imshow(img, origin='lower')"
   ]
  },
  {
   "cell_type": "code",
   "execution_count": null,
   "metadata": {},
   "outputs": [],
   "source": [
    "img_gray = rgb2gray(img)\n",
    "plt.imshow(img_gray, origin='lower', cmap='viridis_r')"
   ]
  },
  {
   "cell_type": "code",
   "execution_count": null,
   "metadata": {},
   "outputs": [],
   "source": [
    "costmap = img_gray\n",
    "m, n = costmap.shape"
   ]
  },
  {
   "attachments": {},
   "cell_type": "markdown",
   "metadata": {},
   "source": [
    "Local planner on costmap"
   ]
  },
  {
   "cell_type": "code",
   "execution_count": null,
   "metadata": {},
   "outputs": [],
   "source": [
    "x = np.array([100, 100])  # current position"
   ]
  },
  {
   "attachments": {},
   "cell_type": "markdown",
   "metadata": {},
   "source": [
    "Compute optimal path from (0,0) to (781,926) as sequence of pixels through terrain map\n",
    "\n",
    "Each pixel represents cost of traversing terrain at that location, with lower cost being better"
   ]
  },
  {
   "cell_type": "code",
   "execution_count": null,
   "metadata": {},
   "outputs": [],
   "source": [
    "from astar import AStar"
   ]
  },
  {
   "cell_type": "code",
   "execution_count": null,
   "metadata": {},
   "outputs": [],
   "source": [
    "class GlobalPlanner(AStar):\n",
    "\n",
    "    def __init__(self, costmap):\n",
    "        self.costmap = costmap\n",
    "        self.width = costmap.shape[0]\n",
    "        self.height = costmap.shape[1]\n",
    "\n",
    "    def neighbors(self, node):\n",
    "        x, y = node\n",
    "        return [(nx, ny) for nx, ny in [(x+1, y), (x-1, y), (x, y+1), (x, y-1)] \n",
    "                if 0 <= nx < self.width and 0 <= ny < self.height]\n",
    "\n",
    "    def distance_between(self, node1, node2):\n",
    "        return self.costmap[node2]\n",
    "    \n",
    "    def heuristic_cost_estimate(self, node1, node2):\n",
    "        \"\"\"Straight line distance\"\"\"\n",
    "        return np.linalg.norm(np.array(node1) - np.array(node2))"
   ]
  },
  {
   "cell_type": "code",
   "execution_count": null,
   "metadata": {},
   "outputs": [],
   "source": [
    "gp_optimal = GlobalPlanner(costmap)"
   ]
  },
  {
   "cell_type": "code",
   "execution_count": null,
   "metadata": {},
   "outputs": [],
   "source": [
    "optimal_path = list(gp_optimal.astar((0, 0), (m-1, n-1)))\n",
    "dt = np.dtype('int32','int32')\n",
    "optimal_path = np.array(optimal_path, dtype=dt)"
   ]
  },
  {
   "cell_type": "code",
   "execution_count": null,
   "metadata": {},
   "outputs": [],
   "source": [
    "# Plot the path on the image\n",
    "plt.rcParams[\"figure.figsize\"] = [m/100, n/100]\n",
    "plt.rcParams[\"figure.autolayout\"] = True\n",
    "\n",
    "fig, ax = plt.subplots()\n",
    "im = ax.imshow(img_gray, extent=[0, n-1, 0, m-1], origin='lower', cmap='viridis_r')\n",
    "\n",
    "# create an axes on the right side of ax. The width of cax will be 5%\n",
    "# of ax and the padding between cax and ax will be fixed at 0.05 inch.\n",
    "divider = make_axes_locatable(ax)\n",
    "cax = divider.append_axes(\"right\", size=\"5%\", pad=0.2)\n",
    "plt.colorbar(im, cax=cax)\n",
    "\n",
    "ax.plot(optimal_path[:,1], optimal_path[:,0], ls='dotted', linewidth=2, color='black')\n",
    "plt.show()"
   ]
  },
  {
   "cell_type": "code",
   "execution_count": null,
   "metadata": {},
   "outputs": [],
   "source": [
    "# Compute cost of optimal path\n",
    "cost = 0\n",
    "for node in optimal_path:\n",
    "    cost += costmap[node[0], node[1]]\n",
    "print(f'Cost of optimal path: {cost}')"
   ]
  },
  {
   "attachments": {},
   "cell_type": "markdown",
   "metadata": {},
   "source": [
    "Add noise to map to obtain imperfect \"global\" information"
   ]
  },
  {
   "cell_type": "code",
   "execution_count": null,
   "metadata": {},
   "outputs": [],
   "source": [
    "sigma = 0.1\n",
    "map_noisy = costmap + np.random.normal(0, sigma, size=(m,n))"
   ]
  },
  {
   "cell_type": "code",
   "execution_count": null,
   "metadata": {},
   "outputs": [],
   "source": [
    "# Plot true map and noisy map\n",
    "fig, ax = plt.subplots(1, 2, figsize=(2*m/100, n/100))\n",
    "im1 = ax[0].imshow(img_gray, extent=[0, n-1, 0, m-1], origin='lower', cmap='viridis_r')\n",
    "im2 = ax[1].imshow(map_noisy, extent=[0, n-1, 0, m-1], origin='lower', cmap='viridis_r')"
   ]
  },
  {
   "cell_type": "code",
   "execution_count": null,
   "metadata": {},
   "outputs": [],
   "source": [
    "gp = GlobalPlanner(map_noisy)"
   ]
  },
  {
   "cell_type": "code",
   "execution_count": null,
   "metadata": {},
   "outputs": [],
   "source": [
    "path = list(gp.astar((0, 0), (m-1, n-1)))\n",
    "dt = np.dtype('int32','int32')\n",
    "path = np.array(path, dtype=dt)"
   ]
  },
  {
   "cell_type": "code",
   "execution_count": null,
   "metadata": {},
   "outputs": [],
   "source": [
    "fig, ax = plt.subplots()\n",
    "im = ax.imshow(img_gray, extent=[0, n-1, 0, m-1], origin='lower', cmap='viridis_r')\n",
    "\n",
    "# create an axes on the right side of ax. The width of cax will be 5%\n",
    "# of ax and the padding between cax and ax will be fixed at 0.05 inch.\n",
    "divider = make_axes_locatable(ax)\n",
    "cax = divider.append_axes(\"right\", size=\"5%\", pad=0.2)\n",
    "plt.colorbar(im, cax=cax)\n",
    "\n",
    "ax.plot(optimal_path[:,1], optimal_path[:,0], ls='dotted', linewidth=2, color='black')\n",
    "ax.plot(path[:,1], path[:,0], ls='dotted', linewidth=2, color='red')\n",
    "plt.show()"
   ]
  },
  {
   "attachments": {},
   "cell_type": "markdown",
   "metadata": {},
   "source": [
    "Add obstacle to map"
   ]
  },
  {
   "cell_type": "code",
   "execution_count": null,
   "metadata": {},
   "outputs": [],
   "source": []
  }
 ],
 "metadata": {
  "kernelspec": {
   "display_name": "multirtd",
   "language": "python",
   "name": "python3"
  },
  "language_info": {
   "codemirror_mode": {
    "name": "ipython",
    "version": 3
   },
   "file_extension": ".py",
   "mimetype": "text/x-python",
   "name": "python",
   "nbconvert_exporter": "python",
   "pygments_lexer": "ipython3",
   "version": "3.9.16"
  },
  "orig_nbformat": 4,
  "vscode": {
   "interpreter": {
    "hash": "e6933d36d84087a72973de1731729e7d5afa974e6f879188c12c6ace520329ed"
   }
  }
 },
 "nbformat": 4,
 "nbformat_minor": 2
}
