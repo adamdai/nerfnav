{
 "cells": [
  {
   "cell_type": "markdown",
   "metadata": {},
   "source": [
    "## Global planning test\n",
    "\n",
    "Test global costmap generation and global planners (A*, D*) "
   ]
  },
  {
   "cell_type": "code",
   "execution_count": null,
   "metadata": {},
   "outputs": [],
   "source": [
    "import numpy as np\n",
    "import os\n",
    "from matplotlib import image\n",
    "import matplotlib.pyplot as plt\n",
    "import plotly.graph_objects as go\n",
    "import plotly.express as px\n",
    "import cv2 as cv\n",
    "from mpl_toolkits.axes_grid1 import make_axes_locatable\n",
    "from segment_anything import sam_model_registry, SamAutomaticMaskGenerator\n",
    "\n",
    "from terrain_nerf.global_planner import GlobalPlanner\n",
    "from terrain_nerf.utils import rgb2gray\n",
    "from terrain_nerf.feature_map import FeatureMap, CostMap\n",
    "from terrain_nerf.autonav import AutoNav\n",
    "\n",
    "# autoreload\n",
    "%load_ext autoreload\n",
    "%autoreload 2"
   ]
  },
  {
   "attachments": {},
   "cell_type": "markdown",
   "metadata": {},
   "source": [
    "### Global planner"
   ]
  },
  {
   "cell_type": "code",
   "execution_count": null,
   "metadata": {},
   "outputs": [],
   "source": [
    "global_img = cv.imread('../data/airsim/images/test_scenario.png')\n",
    "fig = px.imshow(global_img)\n",
    "fig.update_layout(width=1600, height=800)\n",
    "fig.show()"
   ]
  },
  {
   "cell_type": "code",
   "execution_count": null,
   "metadata": {},
   "outputs": [],
   "source": [
    "# downsample image by 2\n",
    "global_img = global_img[::2, ::2, :]\n",
    "fig = px.imshow(global_img)\n",
    "fig.update_layout(width=1600, height=800)\n",
    "fig.show()"
   ]
  },
  {
   "cell_type": "code",
   "execution_count": null,
   "metadata": {},
   "outputs": [],
   "source": [
    "# xy and reversed with respect to plotly image coordinates\n",
    "start_px = (138, 141)\n",
    "goal_px = (78, 493)"
   ]
  },
  {
   "attachments": {},
   "cell_type": "markdown",
   "metadata": {},
   "source": [
    "Segment anything"
   ]
  },
  {
   "cell_type": "code",
   "execution_count": null,
   "metadata": {},
   "outputs": [],
   "source": [
    "def show_anns(anns):\n",
    "    if len(anns) == 0:\n",
    "        return\n",
    "    sorted_anns = sorted(anns, key=(lambda x: x['area']), reverse=True)\n",
    "    ax = plt.gca()\n",
    "    ax.set_autoscale_on(False)\n",
    "\n",
    "    img = np.ones((sorted_anns[0]['segmentation'].shape[0], sorted_anns[0]['segmentation'].shape[1], 4))\n",
    "    img[:,:,3] = 0\n",
    "    for ann in sorted_anns:\n",
    "        m = ann['segmentation']\n",
    "        color_mask = np.concatenate([np.random.random(3), [0.35]])\n",
    "        img[m] = color_mask\n",
    "    ax.imshow(img)"
   ]
  },
  {
   "cell_type": "code",
   "execution_count": null,
   "metadata": {},
   "outputs": [],
   "source": [
    "sam_checkpoint = \"../data/sam_vit_h_4b8939.pth\"\n",
    "model_type = \"vit_h\"\n",
    "\n",
    "device = \"cuda\"\n",
    "\n",
    "sam = sam_model_registry[model_type](checkpoint=sam_checkpoint)\n",
    "sam.to(device=device)\n",
    "\n",
    "mask_generator = SamAutomaticMaskGenerator(sam)"
   ]
  },
  {
   "cell_type": "code",
   "execution_count": null,
   "metadata": {},
   "outputs": [],
   "source": [
    "masks = mask_generator.generate(global_img)"
   ]
  },
  {
   "cell_type": "code",
   "execution_count": null,
   "metadata": {},
   "outputs": [],
   "source": [
    "plt.figure(figsize=(15,8))\n",
    "plt.imshow(global_img)\n",
    "show_anns(masks)\n",
    "plt.axis('off')\n",
    "plt.show() "
   ]
  },
  {
   "cell_type": "code",
   "execution_count": null,
   "metadata": {},
   "outputs": [],
   "source": [
    "plt.imshow(masks[0]['segmentation'])\n",
    "plt.show()"
   ]
  },
  {
   "attachments": {},
   "cell_type": "markdown",
   "metadata": {},
   "source": [
    "Initialize costmap"
   ]
  },
  {
   "cell_type": "code",
   "execution_count": null,
   "metadata": {},
   "outputs": [],
   "source": [
    "mat = np.zeros((global_img.shape[0], global_img.shape[1]))\n",
    "cluster_labels = np.zeros((global_img.shape[0], global_img.shape[1]), dtype=np.int32)\n",
    "costmap_vals = np.zeros(len(masks))\n",
    "cluster_masks = np.zeros((len(masks), global_img.shape[0], global_img.shape[1]), dtype=bool)\n",
    "for i, ann in enumerate(masks):\n",
    "    cluster_labels[ann['segmentation']] = i\n",
    "    costmap_vals[i] = 0.1 * global_img[ann['segmentation']].mean() / 255.0\n",
    "    mat[ann['segmentation']] = costmap_vals[i]\n",
    "    cluster_masks[i] = ann['segmentation']\n",
    "\n",
    "costmap = CostMap(mat, cluster_labels, cluster_masks)\n",
    "np.savez_compressed('../data/airsim/costmap.npz', mat=mat, cluster_labels=cluster_labels, cluster_masks=cluster_masks)"
   ]
  },
  {
   "cell_type": "code",
   "execution_count": null,
   "metadata": {},
   "outputs": [],
   "source": [
    "s = 0\n",
    "for i in range(len(masks)):\n",
    "    print(costmap.cluster_pts[i].shape)\n",
    "    s += costmap.cluster_pts[i].shape[0]\n",
    "print(s)"
   ]
  },
  {
   "cell_type": "code",
   "execution_count": null,
   "metadata": {},
   "outputs": [],
   "source": [
    "a = np.zeros(mat.shape, dtype=bool)\n",
    "a[costmap.cluster_pts[0]]"
   ]
  },
  {
   "cell_type": "code",
   "execution_count": null,
   "metadata": {},
   "outputs": [],
   "source": [
    "for i in range(len(masks)):\n",
    "    print(np.sum(costmap.cluster_masks[i]))"
   ]
  },
  {
   "attachments": {},
   "cell_type": "markdown",
   "metadata": {},
   "source": [
    "Path planning"
   ]
  },
  {
   "cell_type": "code",
   "execution_count": null,
   "metadata": {},
   "outputs": [],
   "source": [
    "UNREAL_PLAYER_START = np.array([-117252.054688, 264463.03125, 25148.908203])\n",
    "UNREAL_GOAL = np.array([-83250.0, 258070.0, 24860.0])\n",
    "GOAL_POS = (UNREAL_GOAL - UNREAL_PLAYER_START)[:2] / 100.0\n",
    "\n",
    "feat_map = FeatureMap(global_img, start_px, goal_px, UNREAL_PLAYER_START, UNREAL_GOAL)"
   ]
  },
  {
   "cell_type": "code",
   "execution_count": null,
   "metadata": {},
   "outputs": [],
   "source": [
    "# Initialize costmap\n",
    "gp = GlobalPlanner(costmap, feat_map, goal_px)\n",
    "\n",
    "# Show image and cost side by side\n",
    "fig, ax = plt.subplots(1, 2, figsize=(20, 10))\n",
    "ax[0].imshow(global_img)\n",
    "im = ax[1].imshow(gp.costmap.mat)\n",
    "plt.colorbar(im, ax=ax[1], fraction=0.05, aspect=10)\n",
    "plt.show()"
   ]
  },
  {
   "cell_type": "code",
   "execution_count": null,
   "metadata": {},
   "outputs": [],
   "source": [
    "path = gp.replan(np.zeros(3))\n",
    "# Plot \n",
    "fig, ax = plt.subplots(1, 1, figsize=(15, 5))\n",
    "gp.plot(ax=ax)\n",
    "plt.xlabel('x (m)')\n",
    "plt.ylabel('y (m)')\n",
    "plt.show()"
   ]
  },
  {
   "cell_type": "code",
   "execution_count": null,
   "metadata": {},
   "outputs": [],
   "source": [
    "# gp.costmap[costmap_clusters==3] = 0.5\n",
    "# path = gp.plan(start_px, goal_px)\n",
    "# # Plot \n",
    "# fig, ax = plt.subplots(1, 1, figsize=(15, 5))\n",
    "# ax.imshow(costmap, cmap='viridis')\n",
    "# ax.plot(path[:, 1], path[:, 0], 'r')\n",
    "# plt.show()"
   ]
  },
  {
   "attachments": {},
   "cell_type": "markdown",
   "metadata": {},
   "source": [
    "Update costmap (Naive)"
   ]
  },
  {
   "cell_type": "code",
   "execution_count": null,
   "metadata": {},
   "outputs": [],
   "source": [
    "depth = np.load('../data/airsim/images/depth_1688174586.6823223.npy')\n",
    "pose = np.array([169.813, -23.864, -0.104])  # x, y, yaw\n",
    "\n",
    "depth_vis = depth.copy()\n",
    "depth_vis[depth_vis > 20] = 20.0\n",
    "\n",
    "autonav = AutoNavDepth(np.zeros(2))\n",
    "cost_vals = autonav.update_costmap(pose, depth)\n",
    "fig, ax = plt.subplots(1, 2, figsize=(15, 5))\n",
    "ax[0].imshow(depth_vis)\n",
    "im = autonav.plot_costmap(ax[1])\n",
    "plt.colorbar(im)"
   ]
  },
  {
   "cell_type": "code",
   "execution_count": null,
   "metadata": {},
   "outputs": [],
   "source": [
    "cvs = np.array(cost_vals)\n",
    "plt.scatter(cvs[:, 1], cvs[:, 0], c=cvs[:, 2], cmap='viridis')"
   ]
  },
  {
   "cell_type": "code",
   "execution_count": null,
   "metadata": {},
   "outputs": [],
   "source": [
    "costs = cvs[:,2]\n",
    "costs = costs[costs > 1e-3]\n",
    "costs.mean()"
   ]
  },
  {
   "cell_type": "code",
   "execution_count": null,
   "metadata": {},
   "outputs": [],
   "source": [
    "gp.update_costmap(cost_vals)\n",
    "path = gp.plan(start_px, goal_px)\n",
    "# Plot \n",
    "fig, ax = plt.subplots(1, 1, figsize=(15, 5))\n",
    "ax.imshow(gp.costmap.mat, cmap='viridis')\n",
    "ax.plot(path[:, 1], path[:, 0], 'r')\n",
    "plt.show()"
   ]
  }
 ],
 "metadata": {
  "kernelspec": {
   "display_name": "nerf",
   "language": "python",
   "name": "python3"
  },
  "language_info": {
   "codemirror_mode": {
    "name": "ipython",
    "version": 3
   },
   "file_extension": ".py",
   "mimetype": "text/x-python",
   "name": "python",
   "nbconvert_exporter": "python",
   "pygments_lexer": "ipython3",
   "version": "3.9.17"
  },
  "orig_nbformat": 4
 },
 "nbformat": 4,
 "nbformat_minor": 2
}
