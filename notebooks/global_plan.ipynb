{
 "cells": [
  {
   "cell_type": "code",
   "execution_count": null,
   "metadata": {},
   "outputs": [],
   "source": [
    "import numpy as np\n",
    "import os\n",
    "from matplotlib import image\n",
    "import matplotlib.pyplot as plt\n",
    "import plotly.graph_objects as go\n",
    "import plotly.express as px\n",
    "import cv2 as cv\n",
    "\n",
    "from terrain_nerf.autonav import arc\n",
    "\n",
    "# autoreload\n",
    "%load_ext autoreload\n",
    "%autoreload 2"
   ]
  },
  {
   "attachments": {},
   "cell_type": "markdown",
   "metadata": {},
   "source": [
    "Global map"
   ]
  },
  {
   "cell_type": "code",
   "execution_count": null,
   "metadata": {},
   "outputs": [],
   "source": [
    "img = image.imread('../data/airsim/images/global_map.png')"
   ]
  },
  {
   "cell_type": "code",
   "execution_count": null,
   "metadata": {},
   "outputs": [],
   "source": [
    "UNREAL_PLAYER_START = np.array([-117252.054688, 264463.03125, 25148.908203])\n",
    "UNREAL_GOAL = np.array([210111.421875, 111218.84375, 32213.0])\n",
    "\n",
    "goal_meters = (UNREAL_GOAL - UNREAL_PLAYER_START)[:2] / 100.0\n",
    "goal_meters"
   ]
  },
  {
   "cell_type": "code",
   "execution_count": null,
   "metadata": {},
   "outputs": [],
   "source": [
    "# Define a path in image coordinates\n",
    "start_px = np.array([669, 157])\n",
    "goal_px = np.array([52, 1469])\n",
    "\n",
    "path = np.array([[669, 157],\n",
    "                 [638, 231],\n",
    "                 [622, 330],\n",
    "                 [650, 414],\n",
    "                 [671, 506],\n",
    "                 [669, 602],\n",
    "                 [651, 707],\n",
    "                 [635, 812],\n",
    "                 [608, 901],\n",
    "                 [578, 999],\n",
    "                 [531, 1107],\n",
    "                 [463, 1215],\n",
    "                 [387, 1249],\n",
    "                 [287, 1277],\n",
    "                 [186, 1310],\n",
    "                 [120, 1356],\n",
    "                 [79, 1420],\n",
    "                 [52, 1469]])\n",
    "\n",
    "# Plot image with plotly\n",
    "# Resize image to (m,n,3)\n",
    "fig = px.imshow(img[:, :, :3])\n",
    "fig.add_trace(go.Scatter(x=path[:,1], y=path[:,0], mode='lines', name='path'))\n",
    "fig.update_layout(width=1600, height=800)\n",
    "fig.show()"
   ]
  },
  {
   "cell_type": "code",
   "execution_count": null,
   "metadata": {},
   "outputs": [],
   "source": [
    "# Convert path to meters\n",
    "path_meters = path.copy()\n",
    "# Convert to float array\n",
    "path_meters = path_meters.astype(np.float64)\n",
    "\n",
    "scale_factor = 2.5  # 1 pixel = 2.5 meters (computed from goal_meters[0] / (start_px[1] - goal_px[1]))\n",
    "# Shift so start is at 0\n",
    "path_meters -= start_px\n",
    "# Scale\n",
    "path_meters *= scale_factor\n",
    "# Swap x and y\n",
    "path_meters = path_meters[:, [1, 0]]\n",
    "\n",
    "path_meters"
   ]
  },
  {
   "cell_type": "code",
   "execution_count": null,
   "metadata": {},
   "outputs": [],
   "source": [
    "# Export path to file\n",
    "np.save('../data/airsim/global_path.npy', path_meters)"
   ]
  },
  {
   "cell_type": "code",
   "execution_count": null,
   "metadata": {},
   "outputs": [],
   "source": []
  },
  {
   "cell_type": "code",
   "execution_count": null,
   "metadata": {},
   "outputs": [],
   "source": []
  }
 ],
 "metadata": {
  "kernelspec": {
   "display_name": "nerf",
   "language": "python",
   "name": "python3"
  },
  "language_info": {
   "codemirror_mode": {
    "name": "ipython",
    "version": 3
   },
   "file_extension": ".py",
   "mimetype": "text/x-python",
   "name": "python",
   "nbconvert_exporter": "python",
   "pygments_lexer": "ipython3",
   "version": "3.8.16"
  },
  "orig_nbformat": 4
 },
 "nbformat": 4,
 "nbformat_minor": 2
}
