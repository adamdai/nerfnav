{
 "cells": [
  {
   "cell_type": "markdown",
   "metadata": {},
   "source": [
    "## RealSense AutoNav\n",
    "\n",
    "Test AutoNav with RealSense data"
   ]
  },
  {
   "cell_type": "code",
   "execution_count": null,
   "metadata": {},
   "outputs": [],
   "source": [
    "import numpy as np\n",
    "import os\n",
    "from matplotlib import image\n",
    "import matplotlib.pyplot as plt\n",
    "import cv2 as cv\n",
    "import plotly.graph_objects as go\n",
    "from collections import defaultdict\n",
    "from sklearn.linear_model import RANSACRegressor\n",
    "\n",
    "from rover_nerf.autonav import AutoNav, arc\n",
    "from rover_nerf.utils import pc_plot_trace\n",
    "from rover_nerf.autonav_utils import local_to_global, depth_to_points, compute_slope_and_roughness, estimate_hessian_trace\n",
    "\n",
    "# autoreload\n",
    "%load_ext autoreload\n",
    "%autoreload 2\n",
    "\n",
    "# line profiler\n",
    "%load_ext line_profiler"
   ]
  },
  {
   "cell_type": "code",
   "execution_count": null,
   "metadata": {},
   "outputs": [],
   "source": [
    "points = np.load('../data/realsense/pointcloud_0.npy')\n",
    "# Downsample points\n",
    "points = points[::10,:]"
   ]
  },
  {
   "cell_type": "code",
   "execution_count": null,
   "metadata": {},
   "outputs": [],
   "source": [
    "# Transform\n",
    "transform = np.array([[0,-1, 0], \n",
    "                      [0, 0,-1], \n",
    "                      [1, 0, 0]])\n",
    "points = points @ transform"
   ]
  },
  {
   "cell_type": "code",
   "execution_count": null,
   "metadata": {},
   "outputs": [],
   "source": [
    "# Filter out points beyond a certain distance\n",
    "max_depth = 2.0  # meters\n",
    "points = points[points[:,0] < max_depth,:]\n",
    "max_height = -0.1  # meters\n",
    "points = points[points[:,2] < max_height,:]"
   ]
  },
  {
   "cell_type": "code",
   "execution_count": null,
   "metadata": {},
   "outputs": [],
   "source": [
    "trace = pc_plot_trace(points, color=points[:,2])\n",
    "fig = go.Figure(data=[trace])\n",
    "fig.update_layout(width=1600, height=900, scene_aspectmode='data')\n",
    "fig.show()"
   ]
  },
  {
   "cell_type": "code",
   "execution_count": null,
   "metadata": {},
   "outputs": [],
   "source": [
    "autonav = AutoNav(goal=np.array([0,0]), cmap_resolution=0.1, max_depth=3)"
   ]
  },
  {
   "cell_type": "code",
   "execution_count": null,
   "metadata": {},
   "outputs": [],
   "source": [
    "pose = np.array([0,0,0])\n",
    "cost_vals = autonav.update_costmap(pose, None, points)"
   ]
  },
  {
   "cell_type": "code",
   "execution_count": null,
   "metadata": {},
   "outputs": [],
   "source": [
    "fig, ax = plt.subplots(figsize=(10, 5))\n",
    "im = autonav.plot_costmap(ax)\n",
    "plt.colorbar(im, fraction=0.04, aspect=12)"
   ]
  },
  {
   "cell_type": "code",
   "execution_count": null,
   "metadata": {},
   "outputs": [],
   "source": [
    "cmap_resolution = 0.1  # m\n",
    "max_depth = 3  # m\n",
    "W = int(max_depth / cmap_resolution)\n",
    "cmap_dims = [W + 1, 2*W + 1]  # m\n",
    "cmap_center = [W, W]\n",
    "costmap = np.zeros(cmap_dims)"
   ]
  },
  {
   "cell_type": "code",
   "execution_count": null,
   "metadata": {},
   "outputs": [],
   "source": [
    "centroid = np.mean(points[:,:3], axis=0)\n",
    "\n",
    "bins = defaultdict(list)\n",
    "scale = cmap_resolution\n",
    "\n",
    "x_indices = cmap_center[0] - (points[:, 0] / scale).astype(int)\n",
    "y_indices = cmap_center[1] + (points[:, 1] / scale).astype(int)\n",
    "print(\"X and Y indices: \", x_indices, y_indices, len(x_indices), len(y_indices))"
   ]
  },
  {
   "cell_type": "code",
   "execution_count": null,
   "metadata": {},
   "outputs": [],
   "source": [
    "adjusted_points = points[:,:3] - centroid\n",
    "print(\"Shape of adjusted points: \", adjusted_points.shape)"
   ]
  },
  {
   "cell_type": "code",
   "execution_count": null,
   "metadata": {},
   "outputs": [],
   "source": [
    "for x_idx, y_idx, point in zip(x_indices, y_indices, adjusted_points):\n",
    "    bins[(x_idx, y_idx)].append(tuple(point))\n",
    "\n",
    "cost_vals = []                          \n",
    "for k, v in bins.items():\n",
    "\n",
    "    bin_pts = np.array(v)\n",
    "    print(\"Bin pts: \", len(bin_pts))\n",
    "    \n",
    "    if len(bin_pts) > 10:\n",
    "        dem = {}\n",
    "        dem_resolution = 0.1\n",
    "        min_x, min_y = np.inf, np.inf\n",
    "        max_x, max_y = -np.inf, -np.inf\n",
    "        for i, (x, y, z) in enumerate(bin_pts):\n",
    "            x = int(x / dem_resolution)\n",
    "            y = int(y / dem_resolution)\n",
    "            if (x, y) not in dem:\n",
    "                dem[(x, y)] = z\n",
    "            else:\n",
    "                dem[(x, y)] = max((dem[(x, y)], z))\n",
    "\n",
    "        xy_vals = np.array(list(dem.keys()))\n",
    "        z_vals = np.array(list(dem.values()))\n",
    "        #print(\"xy_vals: \", xy_vals.shape)\n",
    "\n",
    "        ransac = RANSACRegressor(max_trials=10, residual_threshold=0.01)\n",
    "        # self.ransac.fit(xy_vals, z_vals)\n",
    "        try:\n",
    "            print(\"Have fitted RANSAC\")\n",
    "            ransac.fit(xy_vals, z_vals)\n",
    "        except:\n",
    "            print(\"RANSAC failed\")\n",
    "            print(\"xy_vals: \", xy_vals.shape)\n",
    "            print(\"z_vals: \", z_vals.shape)\n",
    "            continue\n",
    "        a, b = ransac.estimator_.coef_\n",
    "        # a, b = 0, 0\n",
    "\n",
    "        z_pred = ransac.estimator_.predict(xy_vals)\n",
    "        # z_pred = np.zeros(len(z_vals))\n",
    "        loss_vals = z_pred - z_vals\n",
    "\n",
    "        roughness = estimate_hessian_trace(np.hstack((xy_vals, loss_vals[:, None])))\n",
    "\n",
    "        n = np.array([a, b, -1])\n",
    "        n = n / np.linalg.norm(n)\n",
    "        if n[2] < 0:\n",
    "            n = -n\n",
    "        slope = np.abs(np.arccos(np.dot(n, np.array([0, 0, 1]))))\n",
    "        cost = 1.0 * slope + 20.0 * roughness\n",
    "        \n",
    "        costmap[k] = cost  # update costmap\n",
    "\n",
    "        # Convert local coordinates to global coordinates\n",
    "        pose = np.array([0.0, 0.0, 0.0]) \n",
    "        local_x = cmap_center[0] - k[0]\n",
    "        local_y = cmap_center[1] - k[1]\n",
    "        global_x = local_x * np.cos(pose[2]) - local_y * np.sin(pose[2]) + pose[0]\n",
    "        global_y = local_x * np.sin(pose[2]) + local_y * np.cos(pose[2]) + pose[1]\n",
    "        cost_vals.append([global_x, global_y, cost])"
   ]
  },
  {
   "cell_type": "code",
   "execution_count": null,
   "metadata": {},
   "outputs": [],
   "source": []
  }
 ],
 "metadata": {
  "kernelspec": {
   "display_name": "nerf",
   "language": "python",
   "name": "python3"
  },
  "language_info": {
   "codemirror_mode": {
    "name": "ipython",
    "version": 3
   },
   "file_extension": ".py",
   "mimetype": "text/x-python",
   "name": "python",
   "nbconvert_exporter": "python",
   "pygments_lexer": "ipython3",
   "version": "3.9.17"
  },
  "orig_nbformat": 4
 },
 "nbformat": 4,
 "nbformat_minor": 2
}
