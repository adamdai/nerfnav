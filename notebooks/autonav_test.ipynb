{
 "cells": [
  {
   "cell_type": "code",
   "execution_count": null,
   "metadata": {},
   "outputs": [],
   "source": [
    "import numpy as np\n",
    "import os\n",
    "from matplotlib import image\n",
    "import matplotlib.pyplot as plt\n",
    "import cv2 as cv\n",
    "\n",
    "from terrain_nerf.autonav import arc\n",
    "\n",
    "# autoreload\n",
    "%load_ext autoreload\n",
    "%autoreload 2"
   ]
  },
  {
   "attachments": {},
   "cell_type": "markdown",
   "metadata": {},
   "source": [
    "Img to costmap"
   ]
  },
  {
   "cell_type": "code",
   "execution_count": null,
   "metadata": {},
   "outputs": [],
   "source": [
    "plt.figure(figsize=(7,7))\n",
    "img = image.imread('../data/airsim/images/birdseye_1687738527.7947364.png')\n",
    "plt.imshow(img)"
   ]
  },
  {
   "cell_type": "code",
   "execution_count": null,
   "metadata": {},
   "outputs": [],
   "source": [
    "# Convert to grayscale\n",
    "gray = cv.cvtColor(img, cv.COLOR_BGR2GRAY)\n",
    "# Downsample to 41x41\n",
    "gray = cv.resize(gray, (41,41))\n",
    "# Invert\n",
    "gray = 1.0 - gray\n",
    "# Automatically set values in center to 0\n",
    "gray[20-2:20+2, 20-2:20+2] = np.min(gray)\n",
    "plt.figure(figsize=(7,7))\n",
    "plt.imshow(gray, cmap='viridis_r')\n",
    "# Show colorbar\n",
    "plt.colorbar()"
   ]
  },
  {
   "attachments": {},
   "cell_type": "markdown",
   "metadata": {},
   "source": [
    "System ID arcs"
   ]
  },
  {
   "cell_type": "code",
   "execution_count": null,
   "metadata": {},
   "outputs": [],
   "source": [
    "data = np.load(\"../data/airsim/systemID/arcs_blocks_dynamic.npz\")\n",
    "arcs = data['arcs']\n",
    "steer_rates = data['steer_rates']\n",
    "# close file\n",
    "data.close()"
   ]
  },
  {
   "cell_type": "code",
   "execution_count": null,
   "metadata": {},
   "outputs": [],
   "source": [
    "# Plot arcs\n",
    "fig, ax = plt.subplots(1, 1, figsize=(7, 7))\n",
    "for i, a1 in enumerate(arcs):\n",
    "    ax.plot(a1[:, 0] - 8.75, a1[:, 1], label=f\"steer_rate={steer_rates[i]}\", c='k')\n",
    "for w in steer_rates:\n",
    "    a2 = arc(np.zeros(3), [2.5, 1.6*w], 50, 0.1)\n",
    "    ax.plot(a2[:, 0], a2[:, 1], label=f\"steer_rate={w}\", c='r')\n",
    "ax.set_xlabel(\"x\")\n",
    "ax.set_ylabel(\"y\")\n",
    "#ax.legend()\n",
    "plt.axis('equal')\n",
    "# Invert y axis\n",
    "plt.gca().invert_yaxis()\n",
    "plt.show()"
   ]
  },
  {
   "cell_type": "code",
   "execution_count": null,
   "metadata": {},
   "outputs": [],
   "source": [
    "steer_rates"
   ]
  },
  {
   "cell_type": "code",
   "execution_count": null,
   "metadata": {},
   "outputs": [],
   "source": [
    "a2[-1]"
   ]
  },
  {
   "cell_type": "code",
   "execution_count": null,
   "metadata": {},
   "outputs": [],
   "source": [
    "a1[-1] - np.array([8.75, 0])"
   ]
  },
  {
   "cell_type": "code",
   "execution_count": null,
   "metadata": {},
   "outputs": [],
   "source": [
    "from terrain_nerf.autonav import local_to_global\n",
    "\n",
    "pose = np.array([1, 1, -np.pi/2])\n",
    "arc_global = local_to_global(pose, a2)\n",
    "# Plot local vs global\n",
    "fig, ax = plt.subplots(1, 1, figsize=(7, 7))\n",
    "ax.plot(a2[:, 0], a2[:, 1], label=\"local\", c='k')\n",
    "ax.plot(arc_global[:, 0], arc_global[:, 1], label=\"global\", c='r')\n",
    "ax.set_xlabel(\"x\")\n",
    "ax.set_ylabel(\"y\")\n",
    "ax.legend()\n",
    "plt.axis('equal')\n",
    "# Invert y axis\n",
    "plt.gca().invert_yaxis()\n",
    "plt.show()"
   ]
  },
  {
   "cell_type": "code",
   "execution_count": null,
   "metadata": {},
   "outputs": [],
   "source": [
    "# Plot arcs\n",
    "fig, ax = plt.subplots(1, 1, figsize=(7, 7))\n",
    "for w in np.linspace(-0.25, 0.25, 11):\n",
    "    a = arc(np.zeros(3), [2.5, w], 50, 0.1)\n",
    "    ax.plot(a[:, 0], a[:, 1], label=f\"steer_rate={w}\")\n",
    "plt.axis('equal')\n",
    "plt.show()"
   ]
  },
  {
   "cell_type": "code",
   "execution_count": null,
   "metadata": {},
   "outputs": [],
   "source": [
    "from terrain_nerf.autonav import AutoNav\n",
    "\n",
    "autonav = AutoNav(np.array([0, 0]))\n",
    "autonav.update_costmap(None)"
   ]
  },
  {
   "cell_type": "code",
   "execution_count": null,
   "metadata": {},
   "outputs": [],
   "source": [
    "autonav.replan()"
   ]
  },
  {
   "cell_type": "code",
   "execution_count": null,
   "metadata": {},
   "outputs": [],
   "source": [
    "# Display costmap\n",
    "plt.imshow(autonav.costmap)"
   ]
  },
  {
   "cell_type": "code",
   "execution_count": null,
   "metadata": {},
   "outputs": [],
   "source": [
    "cand_arcs = autonav.candidate_arcs\n",
    "opt_arc, opt_cost, opt_w = autonav.get_next_arc()\n",
    "\n",
    "# Plot candidate arcs and optimal arc\n",
    "plt.figure(figsize=(10,10))\n",
    "for arc in cand_arcs:\n",
    "    plt.plot(arc[:,0], arc[:,1], 'b')\n",
    "plt.plot(opt_arc[:,0], opt_arc[:,1], 'r')\n",
    "plt.imshow(autonav.costmap)"
   ]
  },
  {
   "cell_type": "code",
   "execution_count": null,
   "metadata": {},
   "outputs": [],
   "source": []
  }
 ],
 "metadata": {
  "kernelspec": {
   "display_name": "nerf",
   "language": "python",
   "name": "python3"
  },
  "language_info": {
   "codemirror_mode": {
    "name": "ipython",
    "version": 3
   },
   "file_extension": ".py",
   "mimetype": "text/x-python",
   "name": "python",
   "nbconvert_exporter": "python",
   "pygments_lexer": "ipython3",
   "version": "3.8.16"
  },
  "orig_nbformat": 4
 },
 "nbformat": 4,
 "nbformat_minor": 2
}
