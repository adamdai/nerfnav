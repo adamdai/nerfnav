{
 "cells": [
  {
   "cell_type": "code",
   "execution_count": null,
   "metadata": {},
   "outputs": [],
   "source": [
    "import numpy as np\n",
    "import os\n",
    "from matplotlib import image\n",
    "import matplotlib.pyplot as plt\n",
    "import cv2 as cv\n",
    "\n",
    "# autoreload\n",
    "%load_ext autoreload\n",
    "%autoreload 2"
   ]
  },
  {
   "cell_type": "code",
   "execution_count": null,
   "metadata": {},
   "outputs": [],
   "source": [
    "from terrain_nerf.autonav import AutoNav\n",
    "\n",
    "autonav = AutoNav()\n",
    "autonav.update_costmap(None)"
   ]
  },
  {
   "cell_type": "code",
   "execution_count": null,
   "metadata": {},
   "outputs": [],
   "source": [
    "# Display costmap\n",
    "plt.imshow(autonav.costmap)"
   ]
  },
  {
   "cell_type": "code",
   "execution_count": null,
   "metadata": {},
   "outputs": [],
   "source": [
    "cand_arcs = autonav.candidate_arcs\n",
    "opt_arc, opt_cost, opt_w = autonav.get_next_arc()\n",
    "\n",
    "# Plot candidate arcs and optimal arc\n",
    "plt.figure(figsize=(10,10))\n",
    "for arc in cand_arcs:\n",
    "    plt.plot(arc[:,0], arc[:,1], 'b')\n",
    "plt.plot(opt_arc[:,0], opt_arc[:,1], 'r')\n",
    "plt.imshow(autonav.costmap)"
   ]
  },
  {
   "cell_type": "code",
   "execution_count": null,
   "metadata": {},
   "outputs": [],
   "source": []
  }
 ],
 "metadata": {
  "kernelspec": {
   "display_name": "nerf",
   "language": "python",
   "name": "python3"
  },
  "language_info": {
   "codemirror_mode": {
    "name": "ipython",
    "version": 3
   },
   "file_extension": ".py",
   "mimetype": "text/x-python",
   "name": "python",
   "nbconvert_exporter": "python",
   "pygments_lexer": "ipython3",
   "version": "3.8.16"
  },
  "orig_nbformat": 4
 },
 "nbformat": 4,
 "nbformat_minor": 2
}
