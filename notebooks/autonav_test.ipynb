{
 "cells": [
  {
   "cell_type": "markdown",
   "metadata": {},
   "source": [
    "## AutoNav Test\n",
    "\n",
    "Test individual components of the AutoNav local planning system:\n",
    " - Image to local costmap\n",
    " - Candidate arc generation \n",
    " - Arc selection\n",
    " - Arc system ID"
   ]
  },
  {
   "cell_type": "code",
   "execution_count": null,
   "metadata": {},
   "outputs": [],
   "source": [
    "import numpy as np\n",
    "import os\n",
    "from matplotlib import image\n",
    "import matplotlib.pyplot as plt\n",
    "import cv2 as cv\n",
    "import plotly.graph_objects as go\n",
    "\n",
    "from nerfnav.autonav import AutoNav, arc\n",
    "from nerfnav.utils import pc_plot_trace\n",
    "from nerfnav.autonav_utils import local_to_global, depth_to_points, compute_slope_and_roughness\n",
    "\n",
    "# autoreload\n",
    "%load_ext autoreload\n",
    "%autoreload 2\n",
    "\n",
    "# line profiler\n",
    "%load_ext line_profiler"
   ]
  },
  {
   "attachments": {},
   "cell_type": "markdown",
   "metadata": {},
   "source": [
    "### Img to costmap"
   ]
  },
  {
   "cell_type": "code",
   "execution_count": null,
   "metadata": {},
   "outputs": [],
   "source": [
    "img = cv.imread('../data/airsim/images/rover/front_small_rocks_1.png')\n",
    "depth = np.load('../data/airsim/images/rover/depth_small_rocks_1.npy')\n",
    "depth[depth > 100] = 100\n",
    "\n",
    "fig, ax = plt.subplots(1,2, figsize=(20, 12))\n",
    "ax[0].imshow(img)\n",
    "ax[1].imshow(depth, cmap='viridis')\n",
    "# no axes\n",
    "ax[0].axis('off')\n",
    "ax[1].axis('off')"
   ]
  },
  {
   "cell_type": "code",
   "execution_count": null,
   "metadata": {},
   "outputs": [],
   "source": [
    "autonav = AutoNav(np.zeros(2))\n",
    "\n",
    "# Point cloud\n",
    "G = depth_to_points(depth, autonav.cam_params, depth_thresh=autonav.max_depth, patch_size=1)\n",
    "G[:,1] *= -1\n",
    "data = pc_plot_trace(G[:,0:3], color=G[:,2], size=2)\n",
    "data['marker']['colorscale'] = 'viridis'\n",
    "fig = go.Figure(data=data)\n",
    "fig.update_layout(width=1600, height=900, scene_aspectmode='data')\n",
    "fig.update_layout(scene = dict(xaxis = dict(visible=False), yaxis = dict(visible=False), zaxis =dict(visible=False)))\n",
    "fig.show()"
   ]
  },
  {
   "cell_type": "code",
   "execution_count": null,
   "metadata": {},
   "outputs": [],
   "source": [
    "np.pad(np.eye(3), pad_width=((1,1),(1,1)), mode='constant', constant_values=0)"
   ]
  },
  {
   "cell_type": "code",
   "execution_count": null,
   "metadata": {},
   "outputs": [],
   "source": [
    "np.pad(np.eye(3), 0, mode='edge')"
   ]
  },
  {
   "cell_type": "code",
   "execution_count": null,
   "metadata": {},
   "outputs": [],
   "source": [
    "from sklearn.linear_model import RANSACRegressor\n",
    "\n",
    "points = G[:,0:3]\n",
    "\n",
    "# Assuming you have a 3D point cloud stored in a numpy array called 'points'\n",
    "X = points[:, :2]  # Extracting the x and y coordinates\n",
    "Z = points[:, 2]   # Extracting the z coordinate\n",
    "\n",
    "# Fitting a plane using RANSAC\n",
    "ransac = RANSACRegressor(max_trials=10)\n",
    "\n",
    "ransac.fit(X, Z)\n",
    "\n",
    "# Accessing the fitted plane parameters\n",
    "A = ransac.estimator_.coef_[0]\n",
    "B = ransac.estimator_.coef_[1]\n",
    "C = -1\n",
    "D = ransac.estimator_.intercept_"
   ]
  },
  {
   "cell_type": "code",
   "execution_count": null,
   "metadata": {},
   "outputs": [],
   "source": [
    "ransac.estimator_.predict(X)"
   ]
  },
  {
   "cell_type": "code",
   "execution_count": null,
   "metadata": {},
   "outputs": [],
   "source": [
    "np.count_nonzero(~ransac.inlier_mask_) / len(ransac.inlier_mask_)  # % of outliers"
   ]
  },
  {
   "cell_type": "code",
   "execution_count": null,
   "metadata": {},
   "outputs": [],
   "source": [
    "normal_vector = np.array([A, B, C]) \n",
    "normal_vector /= np.linalg.norm(normal_vector)\n",
    "\n",
    "if normal_vector[2] < 0:\n",
    "    normal_vector *= -1\n",
    "\n",
    "np.arccos(np.dot(normal_vector, np.array([0, 0, 1])))"
   ]
  },
  {
   "cell_type": "code",
   "execution_count": null,
   "metadata": {},
   "outputs": [],
   "source": [
    "normal_vector"
   ]
  },
  {
   "cell_type": "code",
   "execution_count": null,
   "metadata": {},
   "outputs": [],
   "source": [
    "print(f\"The fitted plane equation is: {A}x + {B}y + {C}z + {D} = 0\")"
   ]
  },
  {
   "cell_type": "code",
   "execution_count": null,
   "metadata": {},
   "outputs": [],
   "source": [
    "xy = np.meshgrid(np.arange(-10, 10, 1), np.arange(-10, 10, 1))\n",
    "z = (-D - A*xy[0] - B*xy[1]) / C\n",
    "\n",
    "fig = go.Figure()\n",
    "fig.add_trace(go.Scatter3d(x=xy[0].reshape(-1), y=xy[1].reshape(-1), z=z.reshape(-1), mode='markers', marker=dict(size=2)))\n",
    "fig.update_layout(width=1600, height=900, scene_aspectmode='data')"
   ]
  },
  {
   "cell_type": "code",
   "execution_count": null,
   "metadata": {},
   "outputs": [],
   "source": [
    "xy[0].reshape(-1,1).shape"
   ]
  },
  {
   "cell_type": "code",
   "execution_count": null,
   "metadata": {},
   "outputs": [],
   "source": [
    "# Random set of 3d points\n",
    "G = 100*np.random.rand(1000,3)\n",
    "\n",
    "compute_slope_and_roughness(G)"
   ]
  },
  {
   "cell_type": "code",
   "execution_count": null,
   "metadata": {},
   "outputs": [],
   "source": [
    "%lprun -f compute_slope_and_roughness compute_slope_and_roughness(G)"
   ]
  },
  {
   "cell_type": "code",
   "execution_count": null,
   "metadata": {},
   "outputs": [],
   "source": [
    "A = np.random.rand(20, 20)\n",
    "len(np.gradient(A, edge_order=2))"
   ]
  },
  {
   "cell_type": "code",
   "execution_count": null,
   "metadata": {},
   "outputs": [],
   "source": [
    "autonav.update_goal(np.array([30, 0]))\n",
    "\n",
    "pose = np.array([0, 0, 0])\n",
    "bin_pts = autonav.update_costmap(pose, depth)\n",
    "# autonav.replan(pose)\n",
    "\n",
    "fig, ax = plt.subplots(1, 1, figsize=(16,8))\n",
    "im = autonav.plot_costmap(ax, show_arcs=True)\n",
    "plt.colorbar(im, ax=ax, fraction=0.04, aspect=11)\n",
    "plt.rcParams.update({'font.size': 15})\n",
    "plt.show()"
   ]
  },
  {
   "cell_type": "code",
   "execution_count": null,
   "metadata": {},
   "outputs": [],
   "source": [
    "bin_pts.shape"
   ]
  },
  {
   "cell_type": "code",
   "execution_count": null,
   "metadata": {},
   "outputs": [],
   "source": [
    "u, s, vh = np.linalg.svd(bin_pts)"
   ]
  },
  {
   "cell_type": "code",
   "execution_count": null,
   "metadata": {},
   "outputs": [],
   "source": [
    "v1, v2, v3 = vh\n",
    "center = np.mean(bin_pts, axis=0)\n",
    "plane_vertices = np.vstack((center + v1 + v2, center + v1 - v2, center - v1 - v2, center - v1 + v2))\n",
    "V = plane_vertices"
   ]
  },
  {
   "cell_type": "code",
   "execution_count": null,
   "metadata": {},
   "outputs": [],
   "source": [
    "V"
   ]
  },
  {
   "cell_type": "code",
   "execution_count": null,
   "metadata": {},
   "outputs": [],
   "source": [
    "# Extract slope and roughness\n",
    "v3 = np.cross(v1, v2)\n",
    "slope = np.arccos(np.dot(v3, np.array([0, 0, 1]))/np.linalg.norm(v3))\n",
    "slope"
   ]
  },
  {
   "cell_type": "code",
   "execution_count": null,
   "metadata": {},
   "outputs": [],
   "source": [
    "np.abs(np.dot(bin_pts - center, v3))"
   ]
  },
  {
   "cell_type": "code",
   "execution_count": null,
   "metadata": {},
   "outputs": [],
   "source": [
    "bin_pts"
   ]
  },
  {
   "cell_type": "code",
   "execution_count": null,
   "metadata": {},
   "outputs": [],
   "source": [
    "mesh = go.Mesh3d(x=V[:,0], y=V[:,1], z=V[:,2], i=[0,0], j=[1,2], k=[2,3],\n",
    "    opacity=0.5)\n",
    "lines = go.Scatter3d(x=np.hstack((V[:,0],V[0,0])), y=np.hstack((V[:,1],V[0,1])), z=np.hstack((V[:,2],V[0,2])), \n",
    "    mode='lines', line=dict(color= 'rgb(70,70,70)', width=1), showlegend=False)\n",
    "plane_data = [mesh, lines]"
   ]
  },
  {
   "cell_type": "code",
   "execution_count": null,
   "metadata": {},
   "outputs": [],
   "source": [
    "bin_pts\n",
    "\n",
    "# Plot bin_pts in 3d\n",
    "fig = go.Figure(data=pc_plot_trace(bin_pts, size=2))\n",
    "fig.add_trace(pc_plot_trace(V, size=5, color='red'))\n",
    "fig.update_layout(width=1600, height=900, scene_aspectmode='data')\n",
    "fig.update_layout(scene = dict(xaxis = dict(visible=False), yaxis = dict(visible=False), zaxis =dict(visible=False)))\n",
    "fig.show()"
   ]
  },
  {
   "attachments": {},
   "cell_type": "markdown",
   "metadata": {},
   "source": [
    "Scratch"
   ]
  },
  {
   "cell_type": "code",
   "execution_count": null,
   "metadata": {},
   "outputs": [],
   "source": [
    "def convert_from_uvd(u, v, d):\n",
    "    pxToMetre = 1.0\n",
    "    focalx = 1.0\n",
    "    focaly = 1.0\n",
    "    cx = 400\n",
    "    cy = 300\n",
    "    d *= pxToMetre\n",
    "    x_over_z = (cx - u) / focalx\n",
    "    y_over_z = (cy - v) / focaly\n",
    "    z = d / np.sqrt(1. + x_over_z**2 + y_over_z**2)\n",
    "    x = x_over_z * z\n",
    "    y = y_over_z * z\n",
    "    return x, y, z"
   ]
  },
  {
   "cell_type": "code",
   "execution_count": null,
   "metadata": {},
   "outputs": [],
   "source": [
    "w, h = 800, 600\n",
    "fov = 90\n",
    "cx = w/2\n",
    "cy = h/2\n",
    "fx = w /(2*np.tan(np.radians(fov/2)))\n",
    "fy = h /(2*np.tan(np.radians(fov/2)))\n",
    "pcd = []\n",
    "depth_thresh = 50\n",
    "for i in range(depth.shape[0]):\n",
    "    for j in range(depth.shape[1]):\n",
    "        if depth[i,j] < depth_thresh:\n",
    "            z = depth[i,j]\n",
    "            x = (j - cx) * z / fx\n",
    "            y = (i - cy) * z / fy\n",
    "            pcd.append([x, y, z])\n",
    "            #pcd.append(convert_from_uvd(i, j, depth[i,j]))\n",
    "pcd = np.array(pcd)"
   ]
  },
  {
   "cell_type": "code",
   "execution_count": null,
   "metadata": {},
   "outputs": [],
   "source": [
    "# Swap y and z, then invert z\n",
    "pcd[:,[1, 2]] = pcd[:,[2, 1]]\n",
    "pcd[:,2] *= -1"
   ]
  },
  {
   "cell_type": "code",
   "execution_count": null,
   "metadata": {},
   "outputs": [],
   "source": [
    "# Plot pcd with plotly\n",
    "fig = go.Figure(data=pc_plot_trace(pcd, color=pcd[:,2]))\n",
    "fig.update_layout(width=1500, height=900, scene_aspectmode='data')\n",
    "fig.show()"
   ]
  },
  {
   "cell_type": "code",
   "execution_count": null,
   "metadata": {},
   "outputs": [],
   "source": [
    "u = 400\n",
    "v = 500\n",
    "d = depth[v, u]\n",
    "print(d)\n",
    "convert_from_uvd(u, v, d)"
   ]
  },
  {
   "cell_type": "code",
   "execution_count": null,
   "metadata": {},
   "outputs": [],
   "source": [
    "# Set all distances of 1 to 0.1\n",
    "img_cp = img.copy()\n",
    "img_cp[img_cp == 1] = 0.1\n",
    "plt.imshow(img_cp)"
   ]
  },
  {
   "cell_type": "code",
   "execution_count": null,
   "metadata": {},
   "outputs": [],
   "source": [
    "np.unique(img_cp)"
   ]
  },
  {
   "cell_type": "code",
   "execution_count": null,
   "metadata": {},
   "outputs": [],
   "source": [
    "plt.figure(figsize=(7,7))\n",
    "img = image.imread('../data/airsim/images/birdseye_1687738527.7947364.png')\n",
    "plt.imshow(img)"
   ]
  },
  {
   "cell_type": "code",
   "execution_count": null,
   "metadata": {},
   "outputs": [],
   "source": [
    "img.shape\n",
    "# Downsample img to 100x100\n",
    "img = cv.resize(img, (100, 100))\n",
    "plt.figure(figsize=(7,7))\n",
    "plt.imshow(img)"
   ]
  },
  {
   "cell_type": "code",
   "execution_count": null,
   "metadata": {},
   "outputs": [],
   "source": [
    "from nerfnav.feature_extraction import extract_and_classify\n",
    "\n",
    "labels = extract_and_classify(img[:,:,:3])"
   ]
  },
  {
   "cell_type": "code",
   "execution_count": null,
   "metadata": {},
   "outputs": [],
   "source": [
    "autonav.update_costmap(img)\n",
    "fig, ax = plt.subplots()\n",
    "im = autonav.plot_costmap(ax)\n",
    "plt.colorbar(im)"
   ]
  },
  {
   "cell_type": "code",
   "execution_count": null,
   "metadata": {},
   "outputs": [],
   "source": [
    "autonav.costmap[4,20]"
   ]
  },
  {
   "cell_type": "code",
   "execution_count": null,
   "metadata": {},
   "outputs": [],
   "source": [
    "autonav.costmap_val(16, 0)"
   ]
  },
  {
   "cell_type": "code",
   "execution_count": null,
   "metadata": {},
   "outputs": [],
   "source": [
    "# Convert to grayscale\n",
    "gray = cv.cvtColor(img, cv.COLOR_BGR2GRAY)\n",
    "# Downsample to 41x41\n",
    "gray = cv.resize(gray, (41,41))\n",
    "# Invert\n",
    "gray = 1.0 - gray\n",
    "# Automatically set values in center to 0\n",
    "gray[20-2:20+2, 20-2:20+2] = np.min(gray)\n",
    "plt.figure(figsize=(7,7))\n",
    "plt.imshow(gray, cmap='viridis_r')\n",
    "# Show colorbar\n",
    "plt.colorbar()"
   ]
  },
  {
   "attachments": {},
   "cell_type": "markdown",
   "metadata": {},
   "source": [
    "System ID arcs"
   ]
  },
  {
   "cell_type": "code",
   "execution_count": null,
   "metadata": {},
   "outputs": [],
   "source": [
    "data = np.load(\"../data/airsim/systemID/arcs_blocks_dynamic.npz\")\n",
    "arcs = data['arcs']\n",
    "steer_rates = data['steer_rates']\n",
    "# close file\n",
    "data.close()"
   ]
  },
  {
   "cell_type": "code",
   "execution_count": null,
   "metadata": {},
   "outputs": [],
   "source": [
    "# Plot arcs\n",
    "fig, ax = plt.subplots(1, 1, figsize=(7, 7))\n",
    "# for i, a1 in enumerate(arcs):\n",
    "#     ax.plot(a1[:, 0] - 8.75, a1[:, 1], label=f\"steer_rate={steer_rates[i]}\", c='k')\n",
    "for w in steer_rates:\n",
    "    a2 = arc(np.zeros(3), [2.5, 1.6*w], 50, 0.1)\n",
    "    ax.plot(a2[:, 0], a2[:, 1], label=f\"steer_rate={w}\")\n",
    "ax.set_xlabel(\"x\")\n",
    "ax.set_ylabel(\"y\")\n",
    "ax.legend()\n",
    "plt.axis('equal')\n",
    "plt.show()"
   ]
  },
  {
   "cell_type": "code",
   "execution_count": null,
   "metadata": {},
   "outputs": [],
   "source": [
    "a2 = arc(np.zeros(3), [2.5, 1.6*0], 50, 0.1)\n",
    "a_transf = local_to_global(np.array([30, 10, -0.5]), a2)\n",
    "#Plot\n",
    "fig, ax = plt.subplots(1, 1, figsize=(7, 7))\n",
    "ax.plot(a_transf[:, 0], a_transf[:, 1], label=f\"steer_rate={w}\")"
   ]
  },
  {
   "cell_type": "code",
   "execution_count": null,
   "metadata": {},
   "outputs": [],
   "source": [
    "steer_rates"
   ]
  },
  {
   "cell_type": "code",
   "execution_count": null,
   "metadata": {},
   "outputs": [],
   "source": [
    "a2[-1]"
   ]
  },
  {
   "cell_type": "code",
   "execution_count": null,
   "metadata": {},
   "outputs": [],
   "source": [
    "a1[-1]"
   ]
  },
  {
   "cell_type": "code",
   "execution_count": null,
   "metadata": {},
   "outputs": [],
   "source": [
    "steer_rates"
   ]
  },
  {
   "cell_type": "code",
   "execution_count": null,
   "metadata": {},
   "outputs": [],
   "source": [
    "a2[-1]"
   ]
  },
  {
   "cell_type": "code",
   "execution_count": null,
   "metadata": {},
   "outputs": [],
   "source": [
    "a1[-1] - np.array([8.75, 0])"
   ]
  },
  {
   "cell_type": "code",
   "execution_count": null,
   "metadata": {},
   "outputs": [],
   "source": [
    "from nerfnav.autonav import local_to_global\n",
    "\n",
    "pose = np.array([1, 1, -np.pi/2])\n",
    "arc_global = local_to_global(pose, a2)\n",
    "# Plot local vs global\n",
    "fig, ax = plt.subplots(1, 1, figsize=(7, 7))\n",
    "ax.plot(a2[:, 0], a2[:, 1], label=\"local\", c='k')\n",
    "ax.plot(arc_global[:, 0], arc_global[:, 1], label=\"global\", c='r')\n",
    "ax.set_xlabel(\"x\")\n",
    "ax.set_ylabel(\"y\")\n",
    "ax.legend()\n",
    "plt.axis('equal')\n",
    "# Invert y axis\n",
    "plt.gca().invert_yaxis()\n",
    "plt.show()"
   ]
  },
  {
   "cell_type": "code",
   "execution_count": null,
   "metadata": {},
   "outputs": [],
   "source": [
    "# Plot arcs\n",
    "fig, ax = plt.subplots(1, 1, figsize=(7, 7))\n",
    "for w in np.linspace(-0.25, 0.25, 11):\n",
    "    a = arc(np.zeros(3), [2.5, w], 50, 0.1)\n",
    "    ax.plot(a[:, 0], a[:, 1], label=f\"steer_rate={w}\")\n",
    "plt.axis('equal')\n",
    "plt.show()"
   ]
  },
  {
   "cell_type": "code",
   "execution_count": null,
   "metadata": {},
   "outputs": [],
   "source": [
    "autonav.update_costmap(None)"
   ]
  },
  {
   "cell_type": "code",
   "execution_count": null,
   "metadata": {},
   "outputs": [],
   "source": [
    "autonav.replan()"
   ]
  },
  {
   "cell_type": "code",
   "execution_count": null,
   "metadata": {},
   "outputs": [],
   "source": [
    "# Display costmap\n",
    "plt.imshow(autonav.costmap)"
   ]
  },
  {
   "cell_type": "code",
   "execution_count": null,
   "metadata": {},
   "outputs": [],
   "source": [
    "cand_arcs = autonav.candidate_arcs\n",
    "opt_arc, opt_cost, opt_w = autonav.get_next_arc()\n",
    "\n",
    "# Plot candidate arcs and optimal arc\n",
    "plt.figure(figsize=(10,10))\n",
    "for arc in cand_arcs:\n",
    "    plt.plot(arc[:,0], arc[:,1], 'b')\n",
    "plt.plot(opt_arc[:,0], opt_arc[:,1], 'r')\n",
    "plt.imshow(autonav.costmap)"
   ]
  },
  {
   "cell_type": "code",
   "execution_count": null,
   "metadata": {},
   "outputs": [],
   "source": []
  }
 ],
 "metadata": {
  "kernelspec": {
   "display_name": "nerf",
   "language": "python",
   "name": "python3"
  },
  "language_info": {
   "codemirror_mode": {
    "name": "ipython",
    "version": 3
   },
   "file_extension": ".py",
   "mimetype": "text/x-python",
   "name": "python",
   "nbconvert_exporter": "python",
   "pygments_lexer": "ipython3",
   "version": "3.9.17"
  },
  "orig_nbformat": 4
 },
 "nbformat": 4,
 "nbformat_minor": 2
}
