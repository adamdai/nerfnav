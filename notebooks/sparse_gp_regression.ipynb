{
 "cells": [
  {
   "cell_type": "markdown",
   "metadata": {},
   "source": [
    "# Sparse GP Regression\n",
    "\n",
    "### 14th January 2014 James Hensman\n",
    "#### 29th September 2014 Neil Lawrence (added sub-titles, notes and some references)."
   ]
  },
  {
   "cell_type": "markdown",
   "metadata": {},
   "source": [
    "This example shows the variational compression effect of so-called 'sparse' Gaussian processes. In particular we show how using the variational free energy framework of [Titsias, 2009](http://jmlr.csail.mit.edu/proceedings/papers/v5/titsias09a/titsias09a.pdf) we can compress a Gaussian process fit. First we set up the notebook with a fixed random seed, and import GPy."
   ]
  },
  {
   "cell_type": "code",
   "execution_count": null,
   "metadata": {
    "collapsed": false,
    "slideshow": {
     "slide_type": "slide"
    }
   },
   "outputs": [],
   "source": [
    "%matplotlib inline\n",
    "%config InlineBackend.figure_format = 'svg'\n",
    "import GPy\n",
    "import numpy as np\n",
    "np.random.seed(101)"
   ]
  },
  {
   "cell_type": "markdown",
   "metadata": {},
   "source": [
    "## Sample Function\n",
    "\n",
    "Now we'll sample a Gaussian process regression problem directly from a Gaussian process prior. We'll use an exponentiated quadratic covariance function with a lengthscale and variance of 1 and sample 50 equally spaced points. "
   ]
  },
  {
   "cell_type": "code",
   "execution_count": null,
   "metadata": {
    "collapsed": false
   },
   "outputs": [],
   "source": [
    "N = 50\n",
    "noise_var = 0.05\n",
    "\n",
    "X = np.linspace(0,10,50)[:,None]\n",
    "k = GPy.kern.RBF(1)\n",
    "y = np.random.multivariate_normal(np.zeros(N),k.K(X)+np.eye(N)*np.sqrt(noise_var)).reshape(-1,1)"
   ]
  },
  {
   "cell_type": "markdown",
   "metadata": {},
   "source": [
    "## Full Gaussian Process Fit\n",
    "\n",
    "Now we use GPy to optimize the parameters of a Gaussian process given the sampled data. Here, there are no approximations, we simply fit the full Gaussian process."
   ]
  },
  {
   "cell_type": "code",
   "execution_count": null,
   "metadata": {
    "collapsed": false
   },
   "outputs": [],
   "source": [
    "m_full = GPy.models.GPRegression(X,y)\n",
    "m_full.optimize('bfgs')\n",
    "m_full.plot()\n",
    "print(m_full)"
   ]
  },
  {
   "cell_type": "markdown",
   "metadata": {},
   "source": [
    "## A Poor `Sparse' GP Fit\n",
    "\n",
    "Now we construct a sparse Gaussian process. This model uses the inducing variable approximation and initialises the inducing variables in two 'clumps'. Our initial fit uses the *correct* covariance function parameters, but a badly placed set of inducing points. "
   ]
  },
  {
   "cell_type": "code",
   "execution_count": null,
   "metadata": {
    "collapsed": false
   },
   "outputs": [],
   "source": [
    "Z = np.hstack((np.linspace(2.5,4.,3),np.linspace(7,8.5,3)))[:,None]\n",
    "m = GPy.models.SparseGPRegression(X,y,Z=Z)\n",
    "m.likelihood.variance = noise_var\n",
    "m.plot()\n",
    "print(m)"
   ]
  },
  {
   "cell_type": "markdown",
   "metadata": {},
   "source": [
    "\n",
    "Notice how the fit is reasonable where there are inducing points, but bad elsewhere. \n",
    "\n",
    "### Optimizing Covariance Parameters\n",
    "\n",
    "Next, we will try and find the optimal covariance function parameters, given that the inducing inputs are held in their current location. "
   ]
  },
  {
   "cell_type": "code",
   "execution_count": null,
   "metadata": {
    "collapsed": false
   },
   "outputs": [],
   "source": [
    "m.inducing_inputs.fix()\n",
    "m.optimize('bfgs')\n",
    "m.plot()\n",
    "print(m)"
   ]
  },
  {
   "cell_type": "markdown",
   "metadata": {},
   "source": [
    "The poor location of the inducing inputs causes the model to 'underfit' the data. The lengthscale is much longer than the full GP, and the noise variance is larger. This is because in this case the Kullback Leibler term in the objective free energy is dominating, and requires a larger lengthscale to improve the quality of the approximation. This is due to the poor location of the inducing inputs. \n",
    "\n",
    "### Optimizing Inducing Inputs\n",
    "\n",
    "Firstly we try optimzing the location of the inducing inputs to fix the problem, however we still get a larger lengthscale than the Gaussian process we sampled from (or the full GP fit we did at the beginning)."
   ]
  },
  {
   "cell_type": "code",
   "execution_count": null,
   "metadata": {
    "collapsed": false
   },
   "outputs": [],
   "source": [
    "m.randomize()\n",
    "m.Z.unconstrain()\n",
    "m.optimize('bfgs')\n",
    "m.plot()"
   ]
  },
  {
   "cell_type": "markdown",
   "metadata": {},
   "source": [
    "The inducing points spread out to cover the data space, but the fit isn't quite there. We can try increasing the number of the inducing points.\n",
    "\n",
    "### Train with More Inducing Points\n",
    "\n",
    "Now we try 12 inducing points, rather than the original six. We then compare with the full Gaussian process likelihood."
   ]
  },
  {
   "cell_type": "code",
   "execution_count": null,
   "metadata": {
    "collapsed": false
   },
   "outputs": [],
   "source": [
    "Z = np.random.rand(12,1)*12\n",
    "m = GPy.models.SparseGPRegression(X,y,Z=Z)\n",
    "\n",
    "m.optimize('bfgs')\n",
    "m.plot()\n",
    "m_full.plot()\n",
    "print(m.log_likelihood(), m_full.log_likelihood())"
   ]
  },
  {
   "cell_type": "markdown",
   "metadata": {},
   "source": [
    "This time, we have enough inducing points and the fit resembles that of the GP. This is verified by the fact that the bound on the marginal likelihood is tight, which means that our variational approximation must be good (the difference between the bound and the true likelihood is the Kullback Leibler divergence between the approximation and the truth). "
   ]
  },
  {
   "cell_type": "markdown",
   "metadata": {},
   "source": [
    "## 2D GP regression"
   ]
  },
  {
   "cell_type": "code",
   "execution_count": null,
   "metadata": {},
   "outputs": [],
   "source": [
    "import matplotlib.pyplot as plt"
   ]
  },
  {
   "cell_type": "code",
   "execution_count": null,
   "metadata": {},
   "outputs": [],
   "source": [
    "# True distribution function\n",
    "c1 = np.array([0.2, 0.3])\n",
    "c2 = np.array([0.8, 0.5])\n",
    "\n",
    "def f(x, y):\n",
    "    return np.maximum(np.exp(-np.sum((np.hstack((x, y)) - c1)**2, 1)), np.exp(-np.sum((np.hstack((x, y)) - c2)**2, 1)))\n",
    "\n",
    "# Plot the function\n",
    "x = np.linspace(0, 1, 100)\n",
    "y = np.linspace(0, 1, 100)\n",
    "X, Y = np.meshgrid(x, y)\n",
    "Z = f(X.reshape(-1,1), Y.reshape(-1,1)).reshape(X.shape)\n",
    "plt.contour(X, Y, Z, 20)"
   ]
  },
  {
   "cell_type": "code",
   "execution_count": null,
   "metadata": {
    "collapsed": false
   },
   "outputs": [],
   "source": [
    "# Fit a 2D function f(x,y) = c over [0,1]x[0,1] on data (x,y,c)\n",
    "\n",
    "N = 100  # number of data points\n",
    "\n",
    "# Sample random points in the input space\n",
    "X = np.random.rand(N, 2)\n",
    "k = GPy.kern.RBF(2)\n",
    "# Sample some noiseless data\n",
    "C = f(X[:,0:1], X[:,1:2])\n",
    "\n",
    "# Create a GPy model\n",
    "m = GPy.models.GPRegression(X, C, kernel=k)\n",
    "m.optimize('bfgs')\n",
    "m.plot()\n",
    "print(m)"
   ]
  },
  {
   "cell_type": "code",
   "execution_count": null,
   "metadata": {},
   "outputs": [],
   "source": [
    "import numpy as np\n",
    "np.set_printoptions(precision=2, suppress=True)"
   ]
  },
  {
   "cell_type": "code",
   "execution_count": null,
   "metadata": {},
   "outputs": [],
   "source": [
    "R = np.array([[0, 0, -1], \n",
    "              [-1, 0, 0], \n",
    "              [0, 1, 0]])\n",
    "\n",
    "R.T @ R"
   ]
  },
  {
   "cell_type": "markdown",
   "metadata": {},
   "source": [
    "No mapping"
   ]
  },
  {
   "cell_type": "code",
   "execution_count": null,
   "metadata": {},
   "outputs": [],
   "source": [
    "black_cam = np.array([-2.220446049250313e-16,1,1.1102230246251565e-16,0,-1.1102230246251565e-16,-2.220446049250313e-16,1,0,1,1.1102230246251565e-16,0,0,0.9999999999999986,-0.3333333432674409,1,1])\n",
    "print(black_cam.reshape(4,4).T)\n",
    "\"\"\n",
    "white_cam = np.array([2.220446049250313e-16,0.9999999999999999,-1.1102230246251565e-16,0,-3.3306690738754696e-16,2.220446049250313e-16,0.9999999999999999,0,0.9999999999999999,-1.1102230246251565e-16,4.440892098500626e-16,0,0.9999999999999991,0.3333333432674407,1.0000000000000002,1])\n",
    "print(white_cam.reshape(4,4).T)"
   ]
  },
  {
   "cell_type": "markdown",
   "metadata": {},
   "source": [
    "Mapping"
   ]
  },
  {
   "cell_type": "code",
   "execution_count": null,
   "metadata": {},
   "outputs": [],
   "source": [
    "black_cam = np.array([1,0,0,0,0,2.220446049250313e-16,1,0,0,-1,2.220446049250313e-16,0,-0.3333333432674408,-0.6666666865348804,-1.0000000000000002,1])\n",
    "print(black_cam.reshape(4,4).T)\n",
    "\n",
    "white_cam = np.array([1,0,0,0,0,2.220446049250313e-16,1,0,0,-1,2.220446049250313e-16,0,1,0.6666666865348823,0.3333333432674406,1])\n",
    "print(white_cam.reshape(4,4).T)"
   ]
  },
  {
   "cell_type": "code",
   "execution_count": null,
   "metadata": {},
   "outputs": [],
   "source": []
  }
 ],
 "metadata": {
  "kernelspec": {
   "display_name": "gpy",
   "language": "python",
   "name": "python3"
  },
  "language_info": {
   "codemirror_mode": {
    "name": "ipython",
    "version": 3
   },
   "file_extension": ".py",
   "mimetype": "text/x-python",
   "name": "python",
   "nbconvert_exporter": "python",
   "pygments_lexer": "ipython3",
   "version": "3.8.17"
  }
 },
 "nbformat": 4,
 "nbformat_minor": 0
}
