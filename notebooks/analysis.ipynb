{
 "cells": [
  {
   "cell_type": "code",
   "execution_count": null,
   "metadata": {},
   "outputs": [],
   "source": [
    "import numpy as np\n",
    "import os\n",
    "from matplotlib import image\n",
    "import matplotlib.pyplot as plt\n",
    "import cv2 as cv\n",
    "\n",
    "from terrain_nerf.feature_map import FeatureMap\n",
    "\n",
    "# autoreload\n",
    "%load_ext autoreload\n",
    "%autoreload 2"
   ]
  },
  {
   "cell_type": "code",
   "execution_count": null,
   "metadata": {},
   "outputs": [],
   "source": [
    "poses = np.load('../data/airsim/logs/states_20230630-0156.npz')['states']\n",
    "global_img = cv.imread('../data/airsim/images/test_scenario.png')\n",
    "\n",
    "UNREAL_PLAYER_START = np.array([-117252.054688, 264463.03125, 25148.908203])\n",
    "UNREAL_GOAL = np.array([-83250.0, 258070.0, 24860.0])\n",
    "\n",
    "start_px = (271, 257)\n",
    "goal_px = (170, 808)\n",
    "\n",
    "feat_map = FeatureMap(global_img, start_px, goal_px, UNREAL_PLAYER_START, UNREAL_GOAL)\n",
    "\n",
    "# Plot poses\n",
    "fig, ax = plt.subplots(1, 1, figsize=(20, 10))\n",
    "xmin, xmax, ymin, ymax = feat_map.bounds\n",
    "ax.imshow(global_img, extent=[xmin, xmax, ymax, ymin])\n",
    "ax.plot(poses[:, 0], poses[:, 1], 'b.')\n",
    "# plt.axis('equal')\n",
    "plt.show()"
   ]
  },
  {
   "cell_type": "code",
   "execution_count": null,
   "metadata": {},
   "outputs": [],
   "source": [
    "from terrain_nerf.utils import trajectory_plot_trace\n",
    "import plotly.graph_objects as go\n",
    "\n",
    "transforms = np.load('transforms.npy')"
   ]
  },
  {
   "cell_type": "code",
   "execution_count": null,
   "metadata": {},
   "outputs": [],
   "source": [
    "N = len(transforms)\n",
    "Rs = np.zeros((3, 3, N))\n",
    "ts = np.zeros((N, 3))\n",
    "for i in range(N):\n",
    "    Rs[:, :, i] = transforms[i][:3, :3]\n",
    "    ts[i, :] = transforms[i][:3, 3]\n",
    "\n",
    "# Plot trajectory\n",
    "fig = go.Figure(data=trajectory_plot_trace(Rs, ts, scale=0.1))\n",
    "# fig.add_trace(trajectory_plot_trace(Rs, ts, scale=1.0))\n",
    "fig.update_layout(width=1500, height=900, scene_aspectmode='data')\n",
    "fig.show()"
   ]
  },
  {
   "cell_type": "code",
   "execution_count": null,
   "metadata": {},
   "outputs": [],
   "source": []
  }
 ],
 "metadata": {
  "kernelspec": {
   "display_name": "nerf",
   "language": "python",
   "name": "python3"
  },
  "language_info": {
   "codemirror_mode": {
    "name": "ipython",
    "version": 3
   },
   "file_extension": ".py",
   "mimetype": "text/x-python",
   "name": "python",
   "nbconvert_exporter": "python",
   "pygments_lexer": "ipython3",
   "version": "3.8.16"
  },
  "orig_nbformat": 4
 },
 "nbformat": 4,
 "nbformat_minor": 2
}
