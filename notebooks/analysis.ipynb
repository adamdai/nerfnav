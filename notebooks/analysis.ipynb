{
 "cells": [
  {
   "cell_type": "code",
   "execution_count": null,
   "metadata": {},
   "outputs": [],
   "source": [
    "import numpy as np\n",
    "import os\n",
    "from matplotlib import image\n",
    "import matplotlib.pyplot as plt\n",
    "import plotly.express as px\n",
    "import cv2 as cv\n",
    "\n",
    "from rover_nerf.feature_map import FeatureMap\n",
    "\n",
    "# autoreload\n",
    "%load_ext autoreload\n",
    "%autoreload 2"
   ]
  },
  {
   "cell_type": "code",
   "execution_count": null,
   "metadata": {},
   "outputs": [],
   "source": [
    "global_img = cv.imread('../data/airsim/images/test_scenario.png')\n",
    "fig = px.imshow(global_img)\n",
    "fig.update_layout(width=1600, height=800)\n",
    "fig.show()"
   ]
  },
  {
   "cell_type": "code",
   "execution_count": null,
   "metadata": {},
   "outputs": [],
   "source": [
    "UNREAL_PLAYER_START = np.array([-117252.054688, -264463.03125, 25148.908203])\n",
    "UNREAL_GOAL = np.array([-83250.0, -258070.0, 24860.0])\n",
    "\n",
    "start_px = (275, 279)\n",
    "goal_px = (155, 984)\n",
    "# start_px = (306, 343)\n",
    "# goal_px = (207, 1133)\n",
    "\n",
    "feat_map = FeatureMap(global_img, start_px, goal_px, UNREAL_PLAYER_START, UNREAL_GOAL)"
   ]
  },
  {
   "attachments": {},
   "cell_type": "markdown",
   "metadata": {},
   "source": [
    "Path comparison"
   ]
  },
  {
   "cell_type": "code",
   "execution_count": null,
   "metadata": {},
   "outputs": [],
   "source": [
    "fig, ax = plt.subplots(1, 1, figsize=(20, 10))\n",
    "xmin, xmax, ymin, ymax = feat_map.bounds\n",
    "ax.imshow(global_img, extent=feat_map.bounds)\n",
    "markersize = 1\n",
    "\n",
    "# Baseline runs\n",
    "baseline_len = 0\n",
    "baseline_path_len = 0\n",
    "baseline_collisions = 0\n",
    "for i in range(1, 4):\n",
    "    baseline_data = np.load(f'../data/results/baseline_small_rocks_{i}_states.npz')\n",
    "    baseline_states = baseline_data['states']\n",
    "    baseline_len += baseline_states.shape[0]\n",
    "    baseline_path_len += np.sum(np.linalg.norm(baseline_states[1:-100,:2] - baseline_states[:-101,:2], axis=1))\n",
    "    baseline_collisions += np.sum(baseline_data['collision_count'])\n",
    "    ax.plot(baseline_states[:, 0], baseline_states[:, 1], 'b.', markersize=markersize)\n",
    "\n",
    "# Replan runs\n",
    "replan_len = 0\n",
    "replan_path_len = 0\n",
    "replan_collisions = 0\n",
    "for i in range(1, 4):\n",
    "    replan_data = np.load(f'../data/results/run_small_rocks_{i}_states.npz')\n",
    "    replan_states = replan_data['states']\n",
    "    replan_len += replan_states.shape[0]\n",
    "    replan_path_len += np.sum(np.linalg.norm(replan_states[1:-100,:2] - replan_states[:-101,:2], axis=1))\n",
    "    replan_collisions += np.sum(replan_data['collision_count'])\n",
    "    ax.plot(replan_states[:, 0], replan_states[:, 1], 'r.', markersize=markersize)\n",
    "\n",
    "print(f'Baseline: {baseline_len/3} states, {baseline_path_len/3} path length, {baseline_collisions/3} collisions')\n",
    "print(f'Replan: {replan_len/3} states, {replan_path_len/3} path length, {replan_collisions/3} collisions')\n",
    "\n",
    "\n",
    "ax.tick_params(axis='x', labelsize=20)\n",
    "ax.tick_params(axis='y', labelsize=20)\n",
    "plt.xlabel('x (m)', fontsize=20)\n",
    "plt.ylabel('y (m)', fontsize=20)\n",
    "plt.show()"
   ]
  },
  {
   "cell_type": "code",
   "execution_count": null,
   "metadata": {},
   "outputs": [],
   "source": [
    "baseline_data['collision_count']"
   ]
  },
  {
   "cell_type": "code",
   "execution_count": null,
   "metadata": {},
   "outputs": [],
   "source": [
    "replan_data['collision_count']"
   ]
  },
  {
   "cell_type": "code",
   "execution_count": null,
   "metadata": {},
   "outputs": [],
   "source": [
    "# Plot z values\n",
    "fig, ax = plt.subplots(1, 1, figsize=(10, 5))\n",
    "ax.plot(baseline_states[:, 2], 'b.', markersize=markersize)\n",
    "ax.plot(replan_states[:, 2], 'r.', markersize=markersize)\n",
    "plt.show()"
   ]
  },
  {
   "cell_type": "code",
   "execution_count": null,
   "metadata": {},
   "outputs": [],
   "source": [
    "from rover_nerf.utils import trajectory_plot_trace\n",
    "import plotly.graph_objects as go\n",
    "\n",
    "transforms = np.load('transforms.npy')"
   ]
  },
  {
   "cell_type": "code",
   "execution_count": null,
   "metadata": {},
   "outputs": [],
   "source": [
    "N = len(transforms)\n",
    "Rs = np.zeros((3, 3, N))\n",
    "ts = np.zeros((N, 3))\n",
    "for i in range(N):\n",
    "    Rs[:, :, i] = transforms[i][:3, :3]\n",
    "    ts[i, :] = transforms[i][:3, 3]\n",
    "\n",
    "# Plot trajectory\n",
    "fig = go.Figure(data=trajectory_plot_trace(Rs, ts, scale=0.1))\n",
    "# fig.add_trace(trajectory_plot_trace(Rs, ts, scale=1.0))\n",
    "fig.update_layout(width=1500, height=900, scene_aspectmode='data')\n",
    "fig.show()"
   ]
  },
  {
   "cell_type": "code",
   "execution_count": null,
   "metadata": {},
   "outputs": [],
   "source": []
  }
 ],
 "metadata": {
  "kernelspec": {
   "display_name": "nerf",
   "language": "python",
   "name": "python3"
  },
  "language_info": {
   "codemirror_mode": {
    "name": "ipython",
    "version": 3
   },
   "file_extension": ".py",
   "mimetype": "text/x-python",
   "name": "python",
   "nbconvert_exporter": "python",
   "pygments_lexer": "ipython3",
   "version": "3.9.17"
  },
  "orig_nbformat": 4
 },
 "nbformat": 4,
 "nbformat_minor": 2
}
