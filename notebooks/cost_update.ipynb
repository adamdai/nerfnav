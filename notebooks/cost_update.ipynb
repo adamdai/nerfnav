{
 "cells": [
  {
   "cell_type": "markdown",
   "metadata": {},
   "source": [
    "## Cost Update\n",
    "\n",
    "Test methods for updating the global costmap from local observations"
   ]
  },
  {
   "cell_type": "code",
   "execution_count": null,
   "metadata": {},
   "outputs": [],
   "source": [
    "import numpy as np\n",
    "import os\n",
    "from matplotlib import image\n",
    "import matplotlib.pyplot as plt\n",
    "import plotly.graph_objects as go\n",
    "import plotly.express as px\n",
    "import cv2 as cv\n",
    "import GPy\n",
    "from scipy.interpolate import RBFInterpolator\n",
    "\n",
    "from terrain_nerf.global_planner import GlobalPlanner\n",
    "from terrain_nerf.utils import rgb2gray, pc_plot_trace\n",
    "from terrain_nerf.feature_map import FeatureMap, CostMap\n",
    "from terrain_nerf.autonav import AutoNav\n",
    "\n",
    "%load_ext autoreload\n",
    "%autoreload 2"
   ]
  },
  {
   "cell_type": "markdown",
   "metadata": {},
   "source": [
    "### Parameters and Setup"
   ]
  },
  {
   "cell_type": "code",
   "execution_count": null,
   "metadata": {},
   "outputs": [],
   "source": [
    "UNREAL_PLAYER_START = np.array([-117252.054688, 264463.03125, 25148.908203])\n",
    "UNREAL_GOAL = np.array([-83250.0, 258070.0, 24860.0])\n",
    "\n",
    "GOAL_POS = (UNREAL_GOAL - UNREAL_PLAYER_START)[:2] / 100.0\n",
    "\n",
    "global_img = cv.imread('../data/airsim/images/test_scenario.png')\n",
    "global_img = global_img[::2, ::2, :]\n",
    "start_px = (138, 141)\n",
    "goal_px = (78, 493)"
   ]
  },
  {
   "cell_type": "markdown",
   "metadata": {},
   "source": [
    "### Global costmap and planner"
   ]
  },
  {
   "cell_type": "code",
   "execution_count": null,
   "metadata": {},
   "outputs": [],
   "source": [
    "costmap_data = np.load('../data/airsim/costmap.npz')\n",
    "costmap = CostMap(costmap_data['mat'], costmap_data['cluster_labels'], costmap_data['cluster_masks'])\n",
    "\n",
    "feat_map = FeatureMap(global_img, start_px, goal_px, UNREAL_PLAYER_START, UNREAL_GOAL)\n",
    "global_planner = GlobalPlanner(costmap, feat_map, goal_px)\n",
    "\n",
    "#init_path = global_planner.replan(np.zeros(3))"
   ]
  },
  {
   "cell_type": "code",
   "execution_count": null,
   "metadata": {},
   "outputs": [],
   "source": [
    "fig, ax = plt.subplots(1, 2, figsize=(10, 10))\n",
    "ax[0].imshow(global_img)\n",
    "im = global_planner.plot(ax[1])\n",
    "# plt.colorbar(im, ax=ax[1])\n",
    "plt.show()"
   ]
  },
  {
   "cell_type": "markdown",
   "metadata": {},
   "source": [
    "### Local observation"
   ]
  },
  {
   "cell_type": "code",
   "execution_count": null,
   "metadata": {},
   "outputs": [],
   "source": [
    "depth = np.load('../data/airsim/images/rover/depth_rocks.npy')\n",
    "pose = np.array([169.813, -23.864, -0.104])  # x, y, yaw\n",
    "\n",
    "depth_vis = depth.copy()\n",
    "depth_vis[depth_vis > 100] = 100.0\n",
    "\n",
    "autonav = AutoNav(np.zeros(2))\n",
    "cost_vals = autonav.update_costmap(pose, depth)\n",
    "fig, ax = plt.subplots(1, 2, figsize=(15, 5))\n",
    "ax[0].imshow(depth_vis)\n",
    "im = autonav.plot_costmap(ax[1])\n",
    "plt.colorbar(im, fraction=0.04, aspect=12)"
   ]
  },
  {
   "cell_type": "code",
   "execution_count": null,
   "metadata": {},
   "outputs": [],
   "source": [
    "cvs = np.array(cost_vals)\n",
    "fig, ax = plt.subplots(1, 1, figsize=(100, 50))\n",
    "s = ax.scatter(cvs[:, 0], cvs[:, 1], c=cvs[:, 2], cmap='viridis_r', s=10)\n",
    "xmin, xmax, ymin, ymax = feat_map.bounds\n",
    "ax.imshow(global_img, extent=[xmin, xmax, ymax, ymin])\n",
    "#ax.invert_yaxis()\n",
    "plt.axis('equal')\n",
    "plt.show()"
   ]
  },
  {
   "cell_type": "code",
   "execution_count": null,
   "metadata": {},
   "outputs": [],
   "source": [
    "# Plot cvs in 3D with plotly\n",
    "data = pc_plot_trace(cvs, color='blue')\n",
    "fig = go.Figure(data=data)\n",
    "fig.show()"
   ]
  },
  {
   "cell_type": "markdown",
   "metadata": {},
   "source": [
    "### Cost interpolation"
   ]
  },
  {
   "cell_type": "code",
   "execution_count": null,
   "metadata": {},
   "outputs": [],
   "source": [
    "X, Y = feat_map.img_to_global(costmap.cluster_pts[2][:,0], costmap.cluster_pts[2][:,1])\n",
    "fig, ax = plt.subplots(1, 1, figsize=(10, 5))\n",
    "ax.scatter(X, Y, s=10)"
   ]
  },
  {
   "cell_type": "code",
   "execution_count": null,
   "metadata": {},
   "outputs": [],
   "source": [
    "xflat = np.stack((X, Y), axis=1)"
   ]
  },
  {
   "cell_type": "code",
   "execution_count": null,
   "metadata": {},
   "outputs": [],
   "source": [
    "interp_vals = RBFInterpolator(cvs[:, :2], cvs[:, 2])(xflat)"
   ]
  },
  {
   "cell_type": "code",
   "execution_count": null,
   "metadata": {},
   "outputs": [],
   "source": [
    "interp_vals"
   ]
  },
  {
   "cell_type": "code",
   "execution_count": null,
   "metadata": {},
   "outputs": [],
   "source": [
    "fig, ax = plt.subplots(figsize=(10, 10))\n",
    "p = ax.scatter(*xflat.T, c=interp_vals, s=50, ec='k', vmin=0, vmax=100, cmap='viridis_r')\n",
    "fig.colorbar(p)\n",
    "plt.show()"
   ]
  },
  {
   "cell_type": "code",
   "execution_count": null,
   "metadata": {},
   "outputs": [],
   "source": [
    "buff = 20\n",
    "xgrid = np.mgrid[min(cvs[:,0])-buff:max(cvs[:,0])+buff:50j, min(cvs[:,1])-buff:max(cvs[:,1])+buff:50j]\n",
    "xflat = xgrid.reshape(2, -1).T\n",
    "yflat = RBFInterpolator(cvs[:, :2], cvs[:, 2])(np.stack((X, Y), axis=1))\n",
    "ygrid = yflat.reshape(xgrid.shape[1:])"
   ]
  },
  {
   "cell_type": "code",
   "execution_count": null,
   "metadata": {},
   "outputs": [],
   "source": [
    "fig, ax = plt.subplots(figsize=(10, 10))\n",
    "ax.pcolormesh(*xgrid, ygrid, vmin=0, vmax=100, shading='gouraud', cmap='viridis_r')\n",
    "p = ax.scatter(*cvs[:,:2].T, c=cvs[:,2], s=50, ec='k', vmin=0, vmax=100, cmap='viridis_r')\n",
    "fig.colorbar(p)\n",
    "plt.show()"
   ]
  },
  {
   "cell_type": "code",
   "execution_count": null,
   "metadata": {},
   "outputs": [],
   "source": [
    "from scipy.stats.qmc import Halton\n",
    "\n",
    "rng = np.random.default_rng()\n",
    "xobs = 2*Halton(2, seed=rng).random(1000) - 1\n",
    "yobs = np.sum(xobs, axis=1)*np.exp(-6*np.sum(xobs**2, axis=1))"
   ]
  },
  {
   "cell_type": "code",
   "execution_count": null,
   "metadata": {},
   "outputs": [],
   "source": [
    "xgrid = np.mgrid[-1:1:50j, -1:1:50j]\n",
    "xflat = xgrid.reshape(2, -1).T\n",
    "yflat = RBFInterpolator(xobs, yobs)(xflat)\n",
    "ygrid = yflat.reshape(50, 50)"
   ]
  },
  {
   "cell_type": "code",
   "execution_count": null,
   "metadata": {},
   "outputs": [],
   "source": [
    "fig, ax = plt.subplots()\n",
    "ax.pcolormesh(*xgrid, ygrid, vmin=-0.25, vmax=0.25, shading='gouraud')\n",
    "p = ax.scatter(*xobs.T, c=yobs, s=50, ec='k', vmin=-0.25, vmax=0.25)\n",
    "fig.colorbar(p)\n",
    "plt.show()"
   ]
  },
  {
   "cell_type": "markdown",
   "metadata": {},
   "source": [
    "### By cluster"
   ]
  },
  {
   "cell_type": "code",
   "execution_count": null,
   "metadata": {},
   "outputs": [],
   "source": [
    "global_planner.update_costmap(cost_vals)"
   ]
  },
  {
   "cell_type": "code",
   "execution_count": null,
   "metadata": {},
   "outputs": [],
   "source": [
    "# Plot local samples on top of global map\n",
    "fig, ax = plt.subplots(figsize=(10, 5))\n",
    "im = global_planner.plot(ax)\n",
    "#s = ax.scatter(cvs[:, 0], cvs[:, 1], c=cvs[:, 2], ec='k', cmap='viridis_r', s=10)\n",
    "plt.colorbar(im, fraction=0.04, aspect=12)\n",
    "plt.axis('equal')\n",
    "plt.show()"
   ]
  },
  {
   "cell_type": "code",
   "execution_count": null,
   "metadata": {},
   "outputs": [],
   "source": [
    "costmap.mat.shape"
   ]
  },
  {
   "cell_type": "code",
   "execution_count": null,
   "metadata": {},
   "outputs": [],
   "source": [
    "292 * 560"
   ]
  },
  {
   "cell_type": "code",
   "execution_count": null,
   "metadata": {},
   "outputs": [],
   "source": [
    "global_planner.update_costmap(cost_vals)"
   ]
  },
  {
   "cell_type": "code",
   "execution_count": null,
   "metadata": {},
   "outputs": [],
   "source": [
    "local_samples = costmap.num_clusters * [None]\n",
    "\n",
    "for x, y, c in cost_vals:\n",
    "    i, j = feat_map.global_to_img(x, y)\n",
    "    k = int(costmap.clusters[i, j])\n",
    "    if local_samples[k] is None:\n",
    "        local_samples[k] = []\n",
    "    local_samples[k].append((x, y, c))"
   ]
  },
  {
   "cell_type": "code",
   "execution_count": null,
   "metadata": {},
   "outputs": [],
   "source": [
    "local_samples[4]"
   ]
  },
  {
   "cell_type": "code",
   "execution_count": null,
   "metadata": {},
   "outputs": [],
   "source": []
  }
 ],
 "metadata": {
  "kernelspec": {
   "display_name": "nerf",
   "language": "python",
   "name": "python3"
  },
  "language_info": {
   "codemirror_mode": {
    "name": "ipython",
    "version": 3
   },
   "file_extension": ".py",
   "mimetype": "text/x-python",
   "name": "python",
   "nbconvert_exporter": "python",
   "pygments_lexer": "ipython3",
   "version": "3.8.16"
  },
  "orig_nbformat": 4
 },
 "nbformat": 4,
 "nbformat_minor": 2
}
