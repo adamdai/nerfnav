{
 "cells": [
  {
   "cell_type": "markdown",
   "metadata": {},
   "source": [
    "## Cost Update\n",
    "\n",
    "Test methods for updating the global costmap from local observations"
   ]
  },
  {
   "cell_type": "code",
   "execution_count": null,
   "metadata": {},
   "outputs": [],
   "source": [
    "import numpy as np\n",
    "import os\n",
    "from matplotlib import image\n",
    "import matplotlib.pyplot as plt\n",
    "import plotly.graph_objects as go\n",
    "import plotly.express as px\n",
    "import cv2 as cv\n",
    "import GPy\n",
    "\n",
    "from terrain_nerf.global_planner import GlobalPlanner\n",
    "from terrain_nerf.utils import rgb2gray\n",
    "from terrain_nerf.feature_map import FeatureMap, CostMap\n",
    "from terrain_nerf.autonav import AutoNav\n",
    "\n",
    "# autoreload\n",
    "%load_ext autoreload\n",
    "%autoreload 2"
   ]
  },
  {
   "cell_type": "markdown",
   "metadata": {},
   "source": [
    "### Parameters and Setup"
   ]
  },
  {
   "cell_type": "code",
   "execution_count": null,
   "metadata": {},
   "outputs": [],
   "source": [
    "UNREAL_PLAYER_START = np.array([-117252.054688, 264463.03125, 25148.908203])\n",
    "UNREAL_GOAL = np.array([-83250.0, 258070.0, 24860.0])\n",
    "\n",
    "GOAL_POS = (UNREAL_GOAL - UNREAL_PLAYER_START)[:2] / 100.0\n",
    "\n",
    "global_img = cv.imread('../data/airsim/images/test_scenario_3.png')\n",
    "global_img = global_img[::2, ::2, :]\n",
    "start_px = (138, 141)\n",
    "goal_px = (78, 493)"
   ]
  },
  {
   "cell_type": "markdown",
   "metadata": {},
   "source": [
    "### Global costmap and planner"
   ]
  },
  {
   "cell_type": "code",
   "execution_count": null,
   "metadata": {},
   "outputs": [],
   "source": [
    "costmap_data = np.load('../data/airsim/costmap.npz')\n",
    "costmap = CostMap(costmap_data['mat'], costmap_data['clusters'], costmap_data['vals'])\n",
    "\n",
    "feat_map = FeatureMap(global_img, start_px, goal_px, UNREAL_PLAYER_START, UNREAL_GOAL)\n",
    "global_planner = GlobalPlanner(costmap, feat_map, goal_px)\n",
    "\n",
    "init_path = global_planner.replan(np.zeros(3))"
   ]
  },
  {
   "cell_type": "code",
   "execution_count": null,
   "metadata": {},
   "outputs": [],
   "source": [
    "fig, ax = plt.subplots(1, 2, figsize=(10, 10))\n",
    "ax[0].imshow(global_img)\n",
    "im = global_planner.plot(ax[1])\n",
    "# plt.colorbar(im, ax=ax[1])\n",
    "plt.show()"
   ]
  },
  {
   "cell_type": "markdown",
   "metadata": {},
   "source": [
    "### Local observation"
   ]
  },
  {
   "cell_type": "code",
   "execution_count": null,
   "metadata": {},
   "outputs": [],
   "source": [
    "depth = np.load('../data/airsim/images/depth_1688174586.6823223.npy')\n",
    "pose = np.array([169.813, -23.864, -0.104])  # x, y, yaw\n",
    "\n",
    "depth_vis = depth.copy()\n",
    "depth_vis[depth_vis > 20] = 20.0\n",
    "\n",
    "autonav = AutoNav(np.zeros(2))\n",
    "cost_vals = autonav.update_costmap(pose, depth)\n",
    "fig, ax = plt.subplots(1, 2, figsize=(15, 5))\n",
    "ax[0].imshow(depth_vis)\n",
    "im = autonav.plot_costmap(ax[1])\n",
    "plt.colorbar(im)"
   ]
  },
  {
   "cell_type": "code",
   "execution_count": null,
   "metadata": {},
   "outputs": [],
   "source": [
    "cvs = np.array(cost_vals)\n",
    "plt.scatter(cvs[:, 1], cvs[:, 0], c=cvs[:, 2], cmap='viridis')"
   ]
  },
  {
   "cell_type": "markdown",
   "metadata": {},
   "source": [
    "### GP-based update"
   ]
  },
  {
   "cell_type": "code",
   "execution_count": null,
   "metadata": {},
   "outputs": [],
   "source": [
    "GPy.plotting.change_plotting_library('plotly')"
   ]
  },
  {
   "cell_type": "code",
   "execution_count": null,
   "metadata": {},
   "outputs": [],
   "source": [
    "X = np.random.uniform(-3.,3.,(20,1))\n",
    "Y = np.sin(X) + np.random.randn(20,1)*0.05\n",
    "\n",
    "kernel = GPy.kern.RBF(input_dim=1, variance=1., lengthscale=1.)\n",
    "m = GPy.models.GPRegression(X,Y,kernel)"
   ]
  },
  {
   "cell_type": "code",
   "execution_count": null,
   "metadata": {},
   "outputs": [],
   "source": [
    "m.optimize()"
   ]
  },
  {
   "cell_type": "code",
   "execution_count": null,
   "metadata": {},
   "outputs": [],
   "source": [
    "fig = m.plot()\n",
    "GPy.plotting.show(fig, filename='basic_gp_regression_notebook')"
   ]
  },
  {
   "cell_type": "code",
   "execution_count": null,
   "metadata": {},
   "outputs": [],
   "source": [
    "\n",
    "%matplotlib inline\n",
    "%config InlineBackend.figure_format = 'svg'\n",
    "import GPy\n",
    "import numpy as np\n",
    "np.random.seed(101)"
   ]
  },
  {
   "cell_type": "code",
   "execution_count": null,
   "metadata": {},
   "outputs": [],
   "source": [
    "N = 50\n",
    "noise_var = 0.05\n",
    "\n",
    "X = np.linspace(0,10,50)[:,None]\n",
    "k = GPy.kern.RBF(1)\n",
    "y = np.random.multivariate_normal(np.zeros(N),k.K(X)+np.eye(N)*np.sqrt(noise_var)).reshape(-1,1)"
   ]
  },
  {
   "cell_type": "code",
   "execution_count": null,
   "metadata": {},
   "outputs": [],
   "source": [
    "m_full = GPy.models.GPRegression(X,y)\n",
    "m_full.optimize('bfgs')\n",
    "m_full.plot()\n",
    "print(m_full)"
   ]
  },
  {
   "cell_type": "code",
   "execution_count": null,
   "metadata": {},
   "outputs": [],
   "source": []
  }
 ],
 "metadata": {
  "kernelspec": {
   "display_name": "nerf",
   "language": "python",
   "name": "python3"
  },
  "language_info": {
   "codemirror_mode": {
    "name": "ipython",
    "version": 3
   },
   "file_extension": ".py",
   "mimetype": "text/x-python",
   "name": "python",
   "nbconvert_exporter": "python",
   "pygments_lexer": "ipython3",
   "version": "3.8.17"
  },
  "orig_nbformat": 4
 },
 "nbformat": 4,
 "nbformat_minor": 2
}
