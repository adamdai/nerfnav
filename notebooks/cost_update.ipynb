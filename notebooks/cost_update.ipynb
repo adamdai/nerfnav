{
 "cells": [
  {
   "cell_type": "markdown",
   "metadata": {},
   "source": [
    "## Cost Update\n",
    "\n",
    "Test methods for updating the global costmap from local observations"
   ]
  },
  {
   "cell_type": "code",
   "execution_count": null,
   "metadata": {},
   "outputs": [],
   "source": [
    "import numpy as np\n",
    "import os\n",
    "from matplotlib import image\n",
    "import matplotlib.pyplot as plt\n",
    "import plotly.graph_objects as go\n",
    "import plotly.express as px\n",
    "import cv2 as cv\n",
    "# import GPy\n",
    "from scipy.interpolate import RBFInterpolator\n",
    "from sklearn.neighbors import KernelDensity\n",
    "\n",
    "from nerfnav.global_planner import GlobalPlanner\n",
    "from nerfnav.utils import rgb2gray, pc_plot_trace\n",
    "from nerfnav.feature_map import FeatureMap, CostMap\n",
    "from nerfnav.autonav import AutoNav\n",
    "\n",
    "%load_ext autoreload\n",
    "%autoreload 2"
   ]
  },
  {
   "cell_type": "markdown",
   "metadata": {},
   "source": [
    "### Parameters and Setup"
   ]
  },
  {
   "cell_type": "code",
   "execution_count": null,
   "metadata": {},
   "outputs": [],
   "source": [
    "UNREAL_PLAYER_START = np.array([-117252.054688, 264463.03125, 25148.908203])\n",
    "UNREAL_GOAL = np.array([-83250.0, 258070.0, 24860.0])\n",
    "\n",
    "GOAL_POS = (UNREAL_GOAL - UNREAL_PLAYER_START)[:2] / 100.0\n",
    "\n",
    "global_img = cv.imread('../data/airsim/images/test_scenario.png')\n",
    "global_img = global_img[::2, ::2, :]\n",
    "start_px = (138, 141)\n",
    "goal_px = (78, 493)"
   ]
  },
  {
   "cell_type": "markdown",
   "metadata": {},
   "source": [
    "### Global costmap and planner"
   ]
  },
  {
   "cell_type": "code",
   "execution_count": null,
   "metadata": {},
   "outputs": [],
   "source": [
    "costmap_data = np.load('../data/airsim/costmap.npz')\n",
    "costmap = CostMap(costmap_data['mat'], costmap_data['cluster_labels'], costmap_data['cluster_masks'])\n",
    "\n",
    "feat_map = FeatureMap(global_img, start_px, goal_px, UNREAL_PLAYER_START, UNREAL_GOAL)\n",
    "global_planner = GlobalPlanner(costmap, feat_map, goal_px)\n",
    "\n",
    "#init_path = global_planner.replan(np.zeros(3))"
   ]
  },
  {
   "cell_type": "code",
   "execution_count": null,
   "metadata": {},
   "outputs": [],
   "source": [
    "fig, ax = plt.subplots(1, 2, figsize=(10, 10))\n",
    "ax[0].imshow(global_img)\n",
    "im = global_planner.plot(ax[1])\n",
    "# plt.colorbar(im, ax=ax[1])\n",
    "plt.show()"
   ]
  },
  {
   "cell_type": "markdown",
   "metadata": {},
   "source": [
    "### Local observation"
   ]
  },
  {
   "cell_type": "code",
   "execution_count": null,
   "metadata": {},
   "outputs": [],
   "source": [
    "depth = np.load('../data/airsim/images/rover/depth_start.npy')\n",
    "#pose = np.array([169.813, 23.864, -0.104])  # x, y, yaw\n",
    "pose = np.array([0.0, 0.0, 0.0])\n",
    "\n",
    "depth_vis = depth.copy()\n",
    "depth_vis[depth_vis > 100] = 100.0\n",
    "\n",
    "autonav = AutoNav(np.zeros(2))\n",
    "cost_vals = autonav.update_costmap(pose, depth)\n",
    "fig, ax = plt.subplots(1, 2, figsize=(15, 5))\n",
    "ax[0].imshow(depth_vis)\n",
    "im = autonav.plot_costmap(ax[1])\n",
    "plt.colorbar(im, fraction=0.04, aspect=12)"
   ]
  },
  {
   "cell_type": "code",
   "execution_count": null,
   "metadata": {},
   "outputs": [],
   "source": [
    "cvs = np.array(cost_vals)\n",
    "fig, ax = plt.subplots(1, 1, figsize=(100, 50))\n",
    "s = ax.scatter(cvs[:, 0], cvs[:, 1], c=cvs[:, 2], cmap='viridis_r', s=10)\n",
    "ax.imshow(global_img, extent=feat_map.bounds)\n",
    "#ax.invert_yaxis()\n",
    "plt.axis('equal')\n",
    "plt.show()"
   ]
  },
  {
   "cell_type": "code",
   "execution_count": null,
   "metadata": {},
   "outputs": [],
   "source": [
    "# Plot cvs in 3D with plotly\n",
    "data = pc_plot_trace(cvs, color='blue')\n",
    "fig = go.Figure(data=data)\n",
    "fig.show()"
   ]
  },
  {
   "cell_type": "code",
   "execution_count": null,
   "metadata": {},
   "outputs": [],
   "source": [
    "cost_vals[:,0]"
   ]
  },
  {
   "cell_type": "code",
   "execution_count": null,
   "metadata": {},
   "outputs": [],
   "source": [
    "i, j = feat_map.get_img_coords(np.zeros((10, 2)))"
   ]
  },
  {
   "cell_type": "code",
   "execution_count": null,
   "metadata": {},
   "outputs": [],
   "source": [
    "global_planner.update_costmap(cost_vals)"
   ]
  },
  {
   "cell_type": "code",
   "execution_count": null,
   "metadata": {},
   "outputs": [],
   "source": [
    "fig, ax = plt.subplots(1, 2, figsize=(10, 10))\n",
    "ax[0].imshow(global_img)\n",
    "im = global_planner.plot(ax[1])\n",
    "# plt.colorbar(im, ax=ax[1])\n",
    "plt.show()"
   ]
  },
  {
   "cell_type": "markdown",
   "metadata": {},
   "source": [
    "### Cost interpolation"
   ]
  },
  {
   "cell_type": "code",
   "execution_count": null,
   "metadata": {},
   "outputs": [],
   "source": [
    "c_idx = 1\n",
    "\n",
    "X, Y = feat_map.img_to_global(costmap.cluster_idxs[c_idx][:,0], costmap.cluster_idxs[c_idx][:,1])\n",
    "\n",
    "coords = costmap.cluster_idxs[c_idx]\n",
    "RGB = global_img[coords[:,0], coords[:,1], :]\n",
    "\n",
    "fig, ax = plt.subplots(1, 1, figsize=(10, 5))\n",
    "ax.scatter(X, Y, s=10, c=RGB/255.0)\n",
    "ax.scatter(cvs[:, 0], cvs[:, 1], c=cvs[:, 2], cmap='viridis_r', s=5)\n",
    "plt.axis('equal')\n",
    "plt.show()"
   ]
  },
  {
   "cell_type": "code",
   "execution_count": null,
   "metadata": {},
   "outputs": [],
   "source": [
    "x = costmap.cluster_idxs[c_idx][:,0]\n",
    "y = costmap.cluster_idxs[c_idx][:,1]\n",
    "costmap.mat[x, y].shape"
   ]
  },
  {
   "cell_type": "code",
   "execution_count": null,
   "metadata": {},
   "outputs": [],
   "source": [
    "costmap.cluster_masks[c_idx]"
   ]
  },
  {
   "cell_type": "code",
   "execution_count": null,
   "metadata": {},
   "outputs": [],
   "source": [
    "sample_RGB = feat_map.get_features(cvs[:,:2])\n",
    "\n",
    "fig, ax = plt.subplots(1, 1, figsize=(10, 5))\n",
    "ax.scatter(cvs[:, 0], cvs[:, 1], c=sample_RGB/255.0, s=70)\n",
    "plt.axis('equal')"
   ]
  },
  {
   "cell_type": "code",
   "execution_count": null,
   "metadata": {},
   "outputs": [],
   "source": [
    "norm_const = max(np.abs([min(X), max(X), min(Y), max(Y)]))\n",
    "norm_const = 200"
   ]
  },
  {
   "cell_type": "code",
   "execution_count": null,
   "metadata": {},
   "outputs": [],
   "source": [
    "features = np.hstack((X[:,None]/norm_const, Y[:,None]/norm_const, RGB/255.0))"
   ]
  },
  {
   "cell_type": "code",
   "execution_count": null,
   "metadata": {},
   "outputs": [],
   "source": [
    "sample_features = np.hstack((cvs[:, :2]/norm_const, sample_RGB/255.0))"
   ]
  },
  {
   "cell_type": "code",
   "execution_count": null,
   "metadata": {},
   "outputs": [],
   "source": [
    "# Spatial + feature\n",
    "kde = KernelDensity(kernel='gaussian', bandwidth=0.5).fit(sample_features, cvs[:, 2])\n",
    "density = np.exp(kde.score_samples(features))\n",
    "\n",
    "# Feature only\n",
    "# kde = KernelDensity(kernel='gaussian', bandwidth=0.5).fit(sample_RGB/255.0, cvs[:, 2])\n",
    "# density = np.exp(kde.score_samples(RGB/255.0))"
   ]
  },
  {
   "cell_type": "code",
   "execution_count": null,
   "metadata": {},
   "outputs": [],
   "source": [
    "coords = costmap.cluster_idxs[c_idx]\n",
    "RGB = global_img[coords[:,0], coords[:,1], :]\n",
    "\n",
    "fig, ax = plt.subplots(1, 1, figsize=(10, 5))\n",
    "im = ax.scatter(X, Y, s=10, c=density, cmap='viridis')\n",
    "plt.colorbar(im, fraction=0.04, aspect=12)\n",
    "#ax.scatter(cvs[:, 0], cvs[:, 1], c=cvs[:, 2], cmap='viridis_r', s=5)\n",
    "plt.axis('equal')\n",
    "plt.show()"
   ]
  },
  {
   "cell_type": "code",
   "execution_count": null,
   "metadata": {},
   "outputs": [],
   "source": [
    "from nerfnav.utils import fibonacci_sphere\n",
    "\n",
    "fibonacci_sphere(100)"
   ]
  },
  {
   "cell_type": "code",
   "execution_count": null,
   "metadata": {},
   "outputs": [],
   "source": []
  }
 ],
 "metadata": {
  "kernelspec": {
   "display_name": "nerf",
   "language": "python",
   "name": "python3"
  },
  "language_info": {
   "codemirror_mode": {
    "name": "ipython",
    "version": 3
   },
   "file_extension": ".py",
   "mimetype": "text/x-python",
   "name": "python",
   "nbconvert_exporter": "python",
   "pygments_lexer": "ipython3",
   "version": "3.9.17"
  },
  "orig_nbformat": 4
 },
 "nbformat": 4,
 "nbformat_minor": 2
}
