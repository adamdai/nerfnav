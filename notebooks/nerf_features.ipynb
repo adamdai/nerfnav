{
 "cells": [
  {
   "cell_type": "code",
   "execution_count": null,
   "metadata": {},
   "outputs": [],
   "source": [
    "from nerfstudio.utils.eval_utils import eval_setup\n",
    "import torch\n",
    "from pathlib import Path\n",
    "from nerfstudio.cameras.rays import RayBundle\n",
    "\n",
    "import math\n",
    "\n",
    "torch.manual_seed(42)\n",
    "\n",
    "%load_ext autoreload\n",
    "%autoreload 2"
   ]
  },
  {
   "cell_type": "code",
   "execution_count": null,
   "metadata": {},
   "outputs": [],
   "source": [
    "################################\n",
    "# USER PARAMS\n",
    "################################\n",
    "num_rays = 6000\n",
    "num_nerf_samples = 1024\n",
    "\n",
    "# z_shift = -0.36\n",
    "z_shift = -1.5\n",
    "# z_shift = -1.7\n",
    "# z_shift = -2\n",
    "\n",
    "\n",
    "x_points = [0.05, 0.0, -0.05, -0.1, -0.15]\n",
    "y_points = [0.0, -0.05, -0.1, -0.15, -0.2, -0.25]\n",
    "\n",
    "# x_offset = 0\n",
    "# y_offset = 0\n",
    "\n",
    "# San Jose Low\n",
    "x_offset = 0.58\n",
    "y_offset = -0.03"
   ]
  },
  {
   "cell_type": "code",
   "execution_count": null,
   "metadata": {},
   "outputs": [],
   "source": [
    "p = Path('../../nerfstudio_ws/outputs/MoonTestScenario/nerfacto/2023-07-21_013712/config.yml')\n",
    "p"
   ]
  },
  {
   "cell_type": "code",
   "execution_count": null,
   "metadata": {},
   "outputs": [],
   "source": [
    "config, pipeline, checkpoint_path, _ = eval_setup(Path('../../nerfstudio_ws/outputs/MoonTestScenario/nerfacto/2023-07-21_013712/config.yml'))\n",
    "save_folder = \"test\"\n",
    "\n",
    "print(f\"Using checkpoint_path: {checkpoint_path}\")\n",
    "print(f\"Will save to {save_folder}\")"
   ]
  },
  {
   "cell_type": "code",
   "execution_count": null,
   "metadata": {},
   "outputs": [],
   "source": []
  }
 ],
 "metadata": {
  "kernelspec": {
   "display_name": "nerfnav",
   "language": "python",
   "name": "python3"
  },
  "language_info": {
   "codemirror_mode": {
    "name": "ipython",
    "version": 3
   },
   "file_extension": ".py",
   "mimetype": "text/x-python",
   "name": "python",
   "nbconvert_exporter": "python",
   "pygments_lexer": "ipython3",
   "version": "3.9.17"
  },
  "orig_nbformat": 4
 },
 "nbformat": 4,
 "nbformat_minor": 2
}
