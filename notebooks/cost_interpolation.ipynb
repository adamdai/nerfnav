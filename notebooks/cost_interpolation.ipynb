{
 "cells": [
  {
   "cell_type": "code",
   "execution_count": null,
   "metadata": {},
   "outputs": [],
   "source": [
    "import numpy as np\n",
    "import os\n",
    "from matplotlib import image\n",
    "import matplotlib.pyplot as plt\n",
    "import plotly.graph_objects as go\n",
    "import plotly.express as px\n",
    "import cv2 as cv\n",
    "import numpy.matlib\n",
    "\n",
    "from nerfnav.feature_map import FeatureMap\n",
    "from nerfnav.utils import sample_from_ball_2d, pc_plot_trace\n",
    "\n",
    "%load_ext autoreload\n",
    "%autoreload 2"
   ]
  },
  {
   "cell_type": "markdown",
   "metadata": {},
   "source": [
    "Given collection of local cost samples in a cluster, update the global cost values in the cluster.\n",
    "\n",
    "All (x,y,z) in global coords.\n",
    "\n",
    "local cost samples: [(x,y,z), cost], ...\n",
    "NeRF: given (x,y,z), compute feature f(x,y,z)\n",
    " - For now, can use f(x,y,z) as RGB value of top down view of scene.\n",
    "\n",
    "Interpolate over points (x,y,z) in cluster.\n",
    "\n"
   ]
  },
  {
   "cell_type": "code",
   "execution_count": null,
   "metadata": {},
   "outputs": [],
   "source": [
    "# Simulate local cost samples: points on circle in xy with random z\n",
    "#xy_pts = sample_from_ball_2d(200, radius=50.0)\n",
    "xy_pts = np.random.uniform(low=-50.0, high=0.0, size=(200,2))\n",
    "plt.scatter(x=xy_pts[:,0], y=xy_pts[:,1])\n",
    "plt.show()"
   ]
  },
  {
   "cell_type": "code",
   "execution_count": null,
   "metadata": {},
   "outputs": [],
   "source": [
    "# Random cost values between -1 and 1\n",
    "#c_pts = np.random.uniform(-10.0, 10.0, xy_pts.shape[0])\n",
    "c_pts = np.ones(xy_pts.shape[0])\n",
    "\n",
    "xyc_pts = np.hstack((xy_pts, c_pts.reshape((-1,1))))\n",
    "fig = go.Figure(data = pc_plot_trace(xyc_pts, color=c_pts, size=2))\n",
    "fig.update_layout(width=1200, height=600, scene=dict(aspectmode='data'))\n",
    "fig.show()"
   ]
  },
  {
   "cell_type": "code",
   "execution_count": null,
   "metadata": {},
   "outputs": [],
   "source": [
    "# Fake map image\n",
    "global_img = np.zeros((101, 101, 3))\n",
    "\n",
    "# Set colors\n",
    "global_img[:,30:70,2] = 255\n",
    "global_img[:,:30,0] = 255\n",
    "global_img[:,70:,0] = 255\n",
    "\n",
    "fig = px.imshow(global_img)\n",
    "fig.update_layout(width=800, height=800)\n",
    "fig.show()"
   ]
  },
  {
   "cell_type": "code",
   "execution_count": null,
   "metadata": {},
   "outputs": [],
   "source": [
    "h, w, _ = global_img.shape"
   ]
  },
  {
   "cell_type": "code",
   "execution_count": null,
   "metadata": {},
   "outputs": [],
   "source": [
    "fm = FeatureMap(global_img, (h//2, w//2), scale=1.0)\n",
    "fm.get_img_feature(10, 0)"
   ]
  },
  {
   "cell_type": "code",
   "execution_count": null,
   "metadata": {},
   "outputs": [],
   "source": [
    "def get_features(x):\n",
    "    XMAX = 20.0\n",
    "    return np.hstack((x/XMAX, fm.get_features(x)/255.0))"
   ]
  },
  {
   "cell_type": "code",
   "execution_count": null,
   "metadata": {},
   "outputs": [],
   "source": [
    "# Sample features\n",
    "n = len(xyc_pts)\n",
    "F_samples = get_features(xyc_pts[:,:2])\n",
    "samples_mat = xyc_pts[:,2][:,None] * F_samples\n",
    "samples_vec = samples_mat.reshape(-1)"
   ]
  },
  {
   "cell_type": "code",
   "execution_count": null,
   "metadata": {},
   "outputs": [],
   "source": [
    "# Eval points\n",
    "x_grid = np.linspace(-50, 50, 101)\n",
    "y_grid = np.linspace(-50, 50, 101)\n",
    "xx, yy = np.meshgrid(x_grid, y_grid)\n",
    "X_eval = np.vstack([xx.ravel(), yy.ravel()]).T\n",
    "F = get_features(X_eval)\n",
    "F_mat = np.matlib.repmat(F, 1, n)\n",
    "costs = F_mat @ samples_vec / 5.0"
   ]
  },
  {
   "cell_type": "code",
   "execution_count": null,
   "metadata": {},
   "outputs": [],
   "source": [
    "F_mat.shape"
   ]
  },
  {
   "cell_type": "code",
   "execution_count": null,
   "metadata": {},
   "outputs": [],
   "source": [
    "xyc_grid = np.hstack((X_eval, costs[:,None]))"
   ]
  },
  {
   "cell_type": "code",
   "execution_count": null,
   "metadata": {},
   "outputs": [],
   "source": [
    "fig = go.Figure(data = pc_plot_trace(xyc_grid, color=costs, size=2))\n",
    "\n",
    "fig.add_trace(pc_plot_trace(xyc_pts, color=c_pts, size=5))\n",
    "fig.update_layout(width=1200, height=600, scene=dict(aspectmode='data'))\n",
    "fig.show()"
   ]
  },
  {
   "cell_type": "code",
   "execution_count": null,
   "metadata": {},
   "outputs": [],
   "source": [
    "import numpy as np\n",
    "import matplotlib.pyplot as plt\n",
    "\n",
    "# Generate a toy RGB image of size 100x100\n",
    "image_size = 100\n",
    "toy_image = np.random.randint(0, 256, (image_size, image_size, 3), dtype=np.uint8)\n",
    "\n",
    "# Extract (x, y, R, G, B) features from the toy image\n",
    "X, Y = np.meshgrid(np.arange(image_size), np.arange(image_size))\n",
    "features = np.stack([X.flatten(), Y.flatten(), \n",
    "                     toy_image[:, :, 0].flatten(), \n",
    "                     toy_image[:, :, 1].flatten(), \n",
    "                     toy_image[:, :, 2].flatten()], axis=1)\n",
    "\n",
    "from sklearn.neighbors import KernelDensity\n",
    "\n",
    "# Randomly subsample the features for KDE\n",
    "sample_size = 1000\n",
    "sample_indices = np.random.choice(features.shape[0], sample_size, replace=False)\n",
    "sample_features = features[sample_indices]\n",
    "\n",
    "# List of different kernels\n",
    "kernels = ['gaussian', 'tophat', 'epanechnikov', 'exponential', 'linear', 'cosine']\n",
    "\n",
    "# Calculate KDE for each kernel type\n",
    "density_values = {}\n",
    "for kernel in kernels:\n",
    "    kde = KernelDensity(kernel=kernel, bandwidth=1.0).fit(sample_features)\n",
    "    density = np.exp(kde.score_samples(features))\n",
    "    density_values[kernel] = density.reshape(image_size, image_size)"
   ]
  },
  {
   "cell_type": "code",
   "execution_count": null,
   "metadata": {},
   "outputs": [],
   "source": [
    "global_img = np.zeros((101, 101, 3))\n",
    "\n",
    "# Set colors\n",
    "global_img[:,30:70,2] = 255\n",
    "global_img[:,:30,0] = 255\n",
    "global_img[:,70:,0] = 255\n",
    "\n",
    "fig = px.imshow(global_img)\n",
    "fig.update_layout(width=800, height=800)\n",
    "fig.show()"
   ]
  },
  {
   "cell_type": "code",
   "execution_count": null,
   "metadata": {},
   "outputs": [],
   "source": [
    "X, Y = np.meshgrid(np.arange(101), np.arange(101))\n",
    "features = np.stack([X.flatten(), Y.flatten(), \n",
    "                     global_img[:, :, 0].flatten(), \n",
    "                     global_img[:, :, 1].flatten(), \n",
    "                     global_img[:, :, 2].flatten()], axis=1)"
   ]
  },
  {
   "cell_type": "code",
   "execution_count": null,
   "metadata": {},
   "outputs": [],
   "source": [
    "sample_size = 100\n",
    "sample_indices = np.random.choice(features.shape[0], sample_size, replace=False)\n",
    "sample_features = features[sample_indices]"
   ]
  },
  {
   "cell_type": "code",
   "execution_count": null,
   "metadata": {},
   "outputs": [],
   "source": [
    "costs = np.ones(sample_size)"
   ]
  },
  {
   "cell_type": "code",
   "execution_count": null,
   "metadata": {},
   "outputs": [],
   "source": [
    "# Plot samples and cost values on top of image\n"
   ]
  },
  {
   "cell_type": "code",
   "execution_count": null,
   "metadata": {},
   "outputs": [],
   "source": [
    "kde = KernelDensity(kernel='linear', bandwidth=1.0).fit(sample_features, costs)\n",
    "density = np.exp(kde.score_samples(features))\n"
   ]
  },
  {
   "cell_type": "code",
   "execution_count": null,
   "metadata": {},
   "outputs": [],
   "source": [
    "px.imshow(density.reshape(101, 101))\n"
   ]
  },
  {
   "cell_type": "code",
   "execution_count": null,
   "metadata": {},
   "outputs": [],
   "source": []
  }
 ],
 "metadata": {
  "kernelspec": {
   "display_name": "nerf",
   "language": "python",
   "name": "python3"
  },
  "language_info": {
   "codemirror_mode": {
    "name": "ipython",
    "version": 3
   },
   "file_extension": ".py",
   "mimetype": "text/x-python",
   "name": "python",
   "nbconvert_exporter": "python",
   "pygments_lexer": "ipython3",
   "version": "3.9.17"
  },
  "orig_nbformat": 4
 },
 "nbformat": 4,
 "nbformat_minor": 2
}
