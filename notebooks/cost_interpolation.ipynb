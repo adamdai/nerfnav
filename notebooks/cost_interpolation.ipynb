{
 "cells": [
  {
   "cell_type": "code",
   "execution_count": null,
   "metadata": {},
   "outputs": [],
   "source": [
    "import numpy as np\n",
    "import os\n",
    "from matplotlib import image\n",
    "import matplotlib.pyplot as plt\n",
    "import plotly.graph_objects as go\n",
    "\n",
    "from nerfnav.utils import sample_from_ball_2d, pc_plot_trace\n",
    "\n",
    "%load_ext autoreload\n",
    "%autoreload 2"
   ]
  },
  {
   "cell_type": "markdown",
   "metadata": {},
   "source": [
    "Given collection of local cost samples in a cluster, update the global cost values in the cluster.\n",
    "\n",
    "All (x,y,z) in global coords.\n",
    "\n",
    "local cost samples: [(x,y,z), cost], ...\n",
    "NeRF: given (x,y,z), compute feature f(x,y,z)\n",
    " - For now, can use f(x,y,z) as RGB value of top down view of scene.\n",
    "\n",
    "Interpolate over points (x,y,z) in cluster.\n",
    "\n"
   ]
  },
  {
   "cell_type": "code",
   "execution_count": null,
   "metadata": {},
   "outputs": [],
   "source": [
    "# Simulate local cost samples: points on circle in xy with random z\n",
    "xy_pts = sample_from_ball_2d(200, radius=20.0)\n",
    "plt.scatter(x=xy_pts[:,0], y=xy_pts[:,1])\n",
    "plt.show()"
   ]
  },
  {
   "cell_type": "code",
   "execution_count": null,
   "metadata": {},
   "outputs": [],
   "source": [
    "# Random z values between -1 and 1\n",
    "z_pts = np.random.uniform(-1.0, 1.0, xy_pts.shape[0])\n",
    "\n",
    "xyz_pts = np.hstack((xy_pts, z_pts.reshape((-1,1))))\n",
    "fig = go.Figure(data = pc_plot_trace(xyz_pts))\n",
    "fig.update_layout(width=800, height=800, scene=dict(aspectmode='data'))\n",
    "fig.show()"
   ]
  },
  {
   "cell_type": "code",
   "execution_count": null,
   "metadata": {},
   "outputs": [],
   "source": []
  }
 ],
 "metadata": {
  "kernelspec": {
   "display_name": "nerf",
   "language": "python",
   "name": "python3"
  },
  "language_info": {
   "codemirror_mode": {
    "name": "ipython",
    "version": 3
   },
   "file_extension": ".py",
   "mimetype": "text/x-python",
   "name": "python",
   "nbconvert_exporter": "python",
   "pygments_lexer": "ipython3",
   "version": "3.8.16"
  },
  "orig_nbformat": 4
 },
 "nbformat": 4,
 "nbformat_minor": 2
}
