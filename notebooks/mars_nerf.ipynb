{
 "cells": [
  {
   "cell_type": "code",
   "execution_count": null,
   "metadata": {},
   "outputs": [],
   "source": [
    "import numpy as np\n",
    "import os\n",
    "from matplotlib import image\n",
    "import matplotlib.pyplot as plt\n",
    "from mpl_toolkits.axes_grid1 import make_axes_locatable\n",
    "import cv2 as cv\n",
    "\n",
    "# autoreload\n",
    "%load_ext autoreload\n",
    "%autoreload 2"
   ]
  },
  {
   "attachments": {},
   "cell_type": "markdown",
   "metadata": {},
   "source": [
    "Stereo to elevation map"
   ]
  },
  {
   "cell_type": "code",
   "execution_count": null,
   "metadata": {},
   "outputs": [],
   "source": [
    "kitti_path = os.path.join('data', 'stereo_imgs', 'kitti', 'seq_00')\n",
    "\n",
    "imgL = cv.imread(os.path.join(kitti_path, 'left_000000.png'), cv.IMREAD_GRAYSCALE)\n",
    "imgR = cv.imread(os.path.join(kitti_path, 'right_000000.png'), cv.IMREAD_GRAYSCALE)\n",
    "stereo = cv.StereoBM_create(numDisparities=16, blockSize=15)\n",
    "disparity = stereo.compute(imgL,imgR)\n",
    "plt.imshow(disparity,'gray')\n",
    "plt.show()"
   ]
  },
  {
   "cell_type": "code",
   "execution_count": null,
   "metadata": {},
   "outputs": [],
   "source": [
    "imgL = cv.imread('sol775_lmst154839_left.png', cv.IMREAD_GRAYSCALE)\n",
    "imgR = cv.imread('sol775_lmst154839_right.png', cv.IMREAD_GRAYSCALE)\n",
    "stereo = cv.StereoBM_create(numDisparities=16, blockSize=7)\n",
    "disparity = stereo.compute(imgL,imgR)\n",
    "plt.imshow(disparity,'gray')\n",
    "plt.show()"
   ]
  },
  {
   "cell_type": "code",
   "execution_count": null,
   "metadata": {},
   "outputs": [],
   "source": [
    "left = image.imread('sol775_lmst154839_left.png')\n",
    "right = image.imread('sol775_lmst154839_right.png')\n",
    "\n",
    "# Display the images\n",
    "fig, (ax1, ax2) = plt.subplots(1, 2, figsize=(15, 15))\n",
    "ax1.imshow(left)\n",
    "ax1.set_title('Left image')\n",
    "ax2.imshow(right)\n",
    "ax2.set_title('Right image')\n",
    "plt.show()"
   ]
  },
  {
   "attachments": {},
   "cell_type": "markdown",
   "metadata": {},
   "source": [
    "Generate terrain map from sample image"
   ]
  },
  {
   "cell_type": "code",
   "execution_count": null,
   "metadata": {},
   "outputs": [],
   "source": [
    "def rgb2gray(rgb):\n",
    "    return np.dot(rgb[...,:3], [0.2989, 0.5870, 0.1140])"
   ]
  },
  {
   "cell_type": "code",
   "execution_count": null,
   "metadata": {},
   "outputs": [],
   "source": [
    "img = image.imread('../data/airsim/images/global_map.png')\n",
    "plt.imshow(img, origin='lower')"
   ]
  },
  {
   "cell_type": "code",
   "execution_count": null,
   "metadata": {},
   "outputs": [],
   "source": [
    "img_gray = rgb2gray(img)\n",
    "plt.imshow(img_gray, origin='lower', cmap='viridis_r')"
   ]
  },
  {
   "cell_type": "code",
   "execution_count": null,
   "metadata": {},
   "outputs": [],
   "source": [
    "costmap = img_gray\n",
    "m, n = costmap.shape\n",
    "print(m, n)"
   ]
  },
  {
   "attachments": {},
   "cell_type": "markdown",
   "metadata": {},
   "source": [
    "Local planner on costmap"
   ]
  },
  {
   "cell_type": "code",
   "execution_count": null,
   "metadata": {},
   "outputs": [],
   "source": [
    "x = np.array([100, 100, 0])  # current (x, y, theta) pose\n",
    "# Plot the costmap in radius 10 pixels around the current position\n",
    "plt.imshow(costmap[max(0, x[0]-10):min(m, x[0]+10), max(0, x[1]-10):min(n, x[1]+10)], origin='lower', cmap='viridis_r')\n",
    "# Show current position in the plot\n",
    "plt.plot(x[0]-max(0, x[0]-10), x[1]-max(0, x[1]-10), 'ro')\n",
    "# Show scale\n",
    "plt.colorbar()"
   ]
  },
  {
   "cell_type": "code",
   "execution_count": null,
   "metadata": {},
   "outputs": [],
   "source": [
    "def closed_form_dubins_traj(x0, u, N, dt):\n",
    "    def dx(v, w, t, eps=1e-15):\n",
    "        return v * np.sin((w + eps) * t) / (w + eps)\n",
    "    def dy(v, w, t, eps=1e-15):\n",
    "        return v * (1 - np.cos((w + eps) * t)) / (w + eps)\n",
    "\n",
    "    traj = np.zeros((N, 3))\n",
    "    traj[:,0] = [x0[0] + dx(u[0], u[1], i * dt) for i in range(N)]\n",
    "    traj[:,1] = [x0[1] + dy(u[0], u[1], i * dt) for i in range(N)]\n",
    "    traj[:,2] = x0[2] + u[1] * np.arange(N) * dt\n",
    "\n",
    "    return traj"
   ]
  },
  {
   "cell_type": "code",
   "execution_count": null,
   "metadata": {},
   "outputs": [],
   "source": [
    "def arc(speed, T, curvature):\n",
    "    dt = 0.1\n",
    "    t = np.arange(0, T, dt)\n",
    "    x = np.zeros_like(t)\n",
    "    y = np.zeros_like(t)\n",
    "    theta = np.zeros_like(t)\n",
    "    x[0] = 0\n",
    "    y[0] = 0\n",
    "    theta[0] = 0\n",
    "    for i in range(1, len(t)):\n",
    "        theta[i] = theta[i-1] + speed/curvature*dt\n",
    "        x[i] = x[i-1] + speed*np.cos(theta[i])*dt\n",
    "        y[i] = y[i-1] + speed*np.sin(theta[i])*dt\n",
    "    return np.stack([x, y, theta]).T"
   ]
  },
  {
   "cell_type": "code",
   "execution_count": null,
   "metadata": {},
   "outputs": [],
   "source": [
    "# ENav - consider parameterized tree of trajectories\n",
    "#  - constant curvature arcs\n",
    "# 1) steering cost\n",
    "# 2) costmap cost: sample at points along arc\n",
    "# 3) global cost: djikstra's from endpoint to goal\n",
    "\n",
    "T = 6.0  # s\n",
    "dt = 0.1  # s\n",
    "speed = 1.0  # m/s\n",
    "omegas = np.linspace(-0.5, 0.5, 11)\n",
    "\n",
    "arcs = [closed_form_dubins_traj(x, [speed, w], int(T/dt), dt) for w in omegas]"
   ]
  },
  {
   "cell_type": "code",
   "execution_count": null,
   "metadata": {},
   "outputs": [],
   "source": [
    "# Plot the costmap in radius 10 pixels around the current position\n",
    "plt.imshow(costmap[max(0, x[0]-10):min(m, x[0]+10), max(0, x[1]-10):min(n, x[1]+10)], origin='lower', cmap='viridis_r')\n",
    "# Show current position in the plot\n",
    "plt.plot(x[0]-max(0, x[0]-10), x[1]-max(0, x[1]-10), 'ro')\n",
    "# Plot arcs\n",
    "for arc in arcs:\n",
    "    plt.plot(arc[:,0]-max(0, x[0]-10), arc[:,1]-max(0, x[1]-10), 'r')\n",
    "# Show scale\n",
    "plt.colorbar()"
   ]
  },
  {
   "cell_type": "code",
   "execution_count": null,
   "metadata": {},
   "outputs": [],
   "source": [
    "def steering_cost(omega):\n",
    "    return 1 - np.exp(-np.abs(omega))\n",
    "\n",
    "def global_cost(x, x_goal):\n",
    "    return np.linalg.norm(x - x_goal)\n",
    "\n",
    "def costmap_cost(arc, costmap):\n",
    "    # Sample costmap at points along arc\n",
    "    # Return sum of costs\n",
    "    return np.sum(costmap[arc[:,0].astype(int), arc[:,1].astype(int)])"
   ]
  },
  {
   "cell_type": "code",
   "execution_count": null,
   "metadata": {},
   "outputs": [],
   "source": [
    "def arc_cost(x, omega, x_goal, costmap):\n",
    "    T = 6.0  # s\n",
    "    dt = 0.1  # s\n",
    "    speed = 1.0  # m/s\n",
    "    arc = closed_form_dubins_traj(x, [speed, omega], int(T/dt), dt)\n",
    "    s_cost = 1.0 * steering_cost(omega) \n",
    "    c_cost = 1.0 * costmap_cost(arc, costmap) \n",
    "    g_cost = 5.0 * global_cost(arc[-1,:], x_goal)\n",
    "    return s_cost + c_cost + g_cost\n",
    "\n",
    "x = np.array([100, 100, 0])\n",
    "x_goal = np.array([200, 200, 0])\n",
    "\n",
    "costs = [arc_cost(x, w, x_goal, costmap) for w in omegas]\n",
    "costs"
   ]
  },
  {
   "cell_type": "code",
   "execution_count": null,
   "metadata": {},
   "outputs": [],
   "source": [
    "goal_thresh = 10.0  # m\n",
    "max_iters = 1000\n",
    "omegas = np.linspace(-0.5, 0.5, 20)\n",
    "\n",
    "x = np.array([100, 100, 0])\n",
    "x_goal = np.array([500, 500, 0])\n",
    "\n",
    "while np.linalg.norm(x[:2] - x_goal[:2]) > goal_thresh:\n",
    "    # Compute costs for all arcs\n",
    "    costs = [arc_cost(x, w, x_goal, costmap) for w in omegas]\n",
    "    # Find minimum cost arc\n",
    "    w_best = omegas[np.argmin(costs)]\n",
    "    # Simulate arc\n",
    "    arc = closed_form_dubins_traj(x, [speed, w_best], int(T/dt), dt)\n",
    "    # Update state\n",
    "    x = arc[-1,:]\n",
    "    print(x)"
   ]
  },
  {
   "attachments": {},
   "cell_type": "markdown",
   "metadata": {},
   "source": [
    "Compute optimal path from (0,0) to (781,926) as sequence of pixels through terrain map\n",
    "\n",
    "Each pixel represents cost of traversing terrain at that location, with lower cost being better"
   ]
  },
  {
   "cell_type": "code",
   "execution_count": null,
   "metadata": {},
   "outputs": [],
   "source": [
    "from nerfnav.astar import AStar"
   ]
  },
  {
   "cell_type": "code",
   "execution_count": null,
   "metadata": {},
   "outputs": [],
   "source": [
    "class GlobalPlanner(AStar):\n",
    "\n",
    "    def __init__(self, costmap):\n",
    "        self.costmap = costmap\n",
    "        self.width = costmap.shape[0]\n",
    "        self.height = costmap.shape[1]\n",
    "\n",
    "    def neighbors(self, node):\n",
    "        x, y = node\n",
    "        return [(nx, ny) for nx, ny in [(x+1, y), (x-1, y), (x, y+1), (x, y-1)] \n",
    "                if 0 <= nx < self.width and 0 <= ny < self.height]\n",
    "\n",
    "    def distance_between(self, node1, node2):\n",
    "        return self.costmap[node2]\n",
    "    \n",
    "    def heuristic_cost_estimate(self, node1, node2):\n",
    "        \"\"\"Straight line distance\"\"\"\n",
    "        return np.linalg.norm(np.array(node1) - np.array(node2))"
   ]
  },
  {
   "cell_type": "code",
   "execution_count": null,
   "metadata": {},
   "outputs": [],
   "source": [
    "gp_optimal = GlobalPlanner(costmap)"
   ]
  },
  {
   "cell_type": "code",
   "execution_count": null,
   "metadata": {},
   "outputs": [],
   "source": [
    "optimal_path = list(gp_optimal.astar((0, 0), (m-1, n-1)))\n",
    "dt = np.dtype('int32','int32')\n",
    "optimal_path = np.array(optimal_path, dtype=dt)"
   ]
  },
  {
   "cell_type": "code",
   "execution_count": null,
   "metadata": {},
   "outputs": [],
   "source": [
    "# Plot the path on the image\n",
    "plt.rcParams[\"figure.figsize\"] = [m/100, n/100]\n",
    "plt.rcParams[\"figure.autolayout\"] = True\n",
    "\n",
    "fig, ax = plt.subplots()\n",
    "im = ax.imshow(img_gray, extent=[0, n-1, 0, m-1], origin='lower', cmap='viridis_r')\n",
    "\n",
    "# create an axes on the right side of ax. The width of cax will be 5%\n",
    "# of ax and the padding between cax and ax will be fixed at 0.05 inch.\n",
    "divider = make_axes_locatable(ax)\n",
    "cax = divider.append_axes(\"right\", size=\"5%\", pad=0.2)\n",
    "plt.colorbar(im, cax=cax)\n",
    "\n",
    "ax.plot(optimal_path[:,1], optimal_path[:,0], ls='dotted', linewidth=2, color='black')\n",
    "plt.show()"
   ]
  },
  {
   "cell_type": "code",
   "execution_count": null,
   "metadata": {},
   "outputs": [],
   "source": [
    "# Compute cost of optimal path\n",
    "cost = 0\n",
    "for node in optimal_path:\n",
    "    cost += costmap[node[0], node[1]]\n",
    "print(f'Cost of optimal path: {cost}')"
   ]
  },
  {
   "attachments": {},
   "cell_type": "markdown",
   "metadata": {},
   "source": [
    "Add noise to map to obtain imperfect \"global\" information"
   ]
  },
  {
   "cell_type": "code",
   "execution_count": null,
   "metadata": {},
   "outputs": [],
   "source": [
    "sigma = 0.1\n",
    "map_noisy = costmap + np.random.normal(0, sigma, size=(m,n))"
   ]
  },
  {
   "cell_type": "code",
   "execution_count": null,
   "metadata": {},
   "outputs": [],
   "source": [
    "# Plot true map and noisy map\n",
    "fig, ax = plt.subplots(1, 2, figsize=(2*m/100, n/100))\n",
    "im1 = ax[0].imshow(img_gray, extent=[0, n-1, 0, m-1], origin='lower', cmap='viridis_r')\n",
    "im2 = ax[1].imshow(map_noisy, extent=[0, n-1, 0, m-1], origin='lower', cmap='viridis_r')"
   ]
  },
  {
   "cell_type": "code",
   "execution_count": null,
   "metadata": {},
   "outputs": [],
   "source": [
    "gp = GlobalPlanner(map_noisy)"
   ]
  },
  {
   "cell_type": "code",
   "execution_count": null,
   "metadata": {},
   "outputs": [],
   "source": [
    "path = list(gp.astar((0, 0), (m-1, n-1)))\n",
    "dt = np.dtype('int32','int32')\n",
    "path = np.array(path, dtype=dt)"
   ]
  },
  {
   "cell_type": "code",
   "execution_count": null,
   "metadata": {},
   "outputs": [],
   "source": [
    "fig, ax = plt.subplots()\n",
    "im = ax.imshow(img_gray, extent=[0, n-1, 0, m-1], origin='lower', cmap='viridis_r')\n",
    "\n",
    "# create an axes on the right side of ax. The width of cax will be 5%\n",
    "# of ax and the padding between cax and ax will be fixed at 0.05 inch.\n",
    "divider = make_axes_locatable(ax)\n",
    "cax = divider.append_axes(\"right\", size=\"5%\", pad=0.2)\n",
    "plt.colorbar(im, cax=cax)\n",
    "\n",
    "ax.plot(optimal_path[:,1], optimal_path[:,0], ls='dotted', linewidth=2, color='black')\n",
    "ax.plot(path[:,1], path[:,0], ls='dotted', linewidth=2, color='red')\n",
    "plt.show()"
   ]
  },
  {
   "attachments": {},
   "cell_type": "markdown",
   "metadata": {},
   "source": [
    "Add obstacle to map"
   ]
  },
  {
   "cell_type": "code",
   "execution_count": null,
   "metadata": {},
   "outputs": [],
   "source": []
  }
 ],
 "metadata": {
  "kernelspec": {
   "display_name": "multirtd",
   "language": "python",
   "name": "python3"
  },
  "language_info": {
   "codemirror_mode": {
    "name": "ipython",
    "version": 3
   },
   "file_extension": ".py",
   "mimetype": "text/x-python",
   "name": "python",
   "nbconvert_exporter": "python",
   "pygments_lexer": "ipython3",
   "version": "3.8.16"
  },
  "orig_nbformat": 4,
  "vscode": {
   "interpreter": {
    "hash": "e6933d36d84087a72973de1731729e7d5afa974e6f879188c12c6ace520329ed"
   }
  }
 },
 "nbformat": 4,
 "nbformat_minor": 2
}
