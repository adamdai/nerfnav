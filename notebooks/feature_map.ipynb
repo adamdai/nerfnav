{
 "cells": [
  {
   "cell_type": "code",
   "execution_count": null,
   "metadata": {},
   "outputs": [],
   "source": [
    "import numpy as np\n",
    "import os\n",
    "from matplotlib import image\n",
    "import matplotlib.pyplot as plt\n",
    "import plotly.graph_objects as go\n",
    "import plotly.express as px\n",
    "import cv2 as cv\n",
    "\n",
    "from terrain_nerf.feature_map import FeatureMap, px_to_global, depth_to_global\n",
    "\n",
    "# autoreload\n",
    "%load_ext autoreload\n",
    "%autoreload 2"
   ]
  },
  {
   "cell_type": "code",
   "execution_count": null,
   "metadata": {},
   "outputs": [],
   "source": [
    "# Global image\n",
    "\n",
    "UNREAL_PLAYER_START = np.array([-117252.054688, 264463.03125, 25148.908203])\n",
    "UNREAL_GOAL = np.array([-83250.0, 258070.0, 24860.0])\n",
    "\n",
    "global_img = image.imread('../data/airsim/images/test_scenario.png')\n",
    "fig = px.imshow(global_img[:, :, :3])\n",
    "fig.update_layout(width=1600, height=800)\n",
    "fig.show()"
   ]
  },
  {
   "cell_type": "code",
   "execution_count": null,
   "metadata": {},
   "outputs": [],
   "source": [
    "# Create feature map\n",
    "start_px = (271, 257)\n",
    "goal_px = (170, 808)\n",
    "\n",
    "fm = FeatureMap(global_img, start_px, goal_px, UNREAL_PLAYER_START, UNREAL_GOAL)"
   ]
  },
  {
   "cell_type": "code",
   "execution_count": null,
   "metadata": {},
   "outputs": [],
   "source": [
    "# Rover image taken from start location\n",
    "rover_img = image.imread('../data/airsim/images/front_1688104627.4594698.png')\n",
    "depth = np.load('../data/airsim/images/depth_1688104615.1395848.npy')\n",
    "\n",
    "depth_thresh = 50  # meters\n",
    "depth_img = depth.copy()\n",
    "depth_img[depth > depth_thresh] = depth_thresh\n",
    "\n",
    "# Show rover image and depth image side by side\n",
    "fig, ax = plt.subplots(1, 2, figsize=(20, 10))\n",
    "ax[0].imshow(rover_img)\n",
    "ax[1].imshow(depth_img)\n",
    "plt.show()"
   ]
  },
  {
   "cell_type": "code",
   "execution_count": null,
   "metadata": {},
   "outputs": [],
   "source": [
    "cam_params = {'w': 800,\n",
    "              'h': 600,\n",
    "              'cx': 400, \n",
    "              'cy': 300, \n",
    "              'fx': 400, \n",
    "              'fy': 300}"
   ]
  },
  {
   "cell_type": "code",
   "execution_count": null,
   "metadata": {},
   "outputs": [],
   "source": [
    "from terrain_nerf.utils import euler_to_R\n",
    "\n",
    "R = euler_to_R(0, 0, np.radians(-30))\n",
    "R = np.eye(3)"
   ]
  },
  {
   "cell_type": "code",
   "execution_count": null,
   "metadata": {},
   "outputs": [],
   "source": [
    "cam_pose = np.hstack((R, np.zeros((3,1))))"
   ]
  },
  {
   "cell_type": "code",
   "execution_count": null,
   "metadata": {},
   "outputs": [],
   "source": [
    "px_to_global(depth, cam_pose, cam_params, (300, 400))"
   ]
  },
  {
   "cell_type": "code",
   "execution_count": null,
   "metadata": {},
   "outputs": [],
   "source": [
    "# Plot global image with local points overlaid\n",
    "fig, ax = plt.subplots(1, 1, figsize=(20, 10))\n",
    "ax.imshow(global_img, extent=fm.bounds)\n",
    "\n",
    "# For each pixel in rover image, get feature from global image\n",
    "G = depth_to_global(depth, cam_pose, cam_params, depth_thresh=100, patch_size=10)\n",
    "ax.scatter(G[:,0], G[:,1], c='r', s=1)\n",
    "\n",
    "plt.show()"
   ]
  },
  {
   "cell_type": "code",
   "execution_count": null,
   "metadata": {},
   "outputs": [],
   "source": []
  }
 ],
 "metadata": {
  "kernelspec": {
   "display_name": "nerf",
   "language": "python",
   "name": "python3"
  },
  "language_info": {
   "codemirror_mode": {
    "name": "ipython",
    "version": 3
   },
   "file_extension": ".py",
   "mimetype": "text/x-python",
   "name": "python",
   "nbconvert_exporter": "python",
   "pygments_lexer": "ipython3",
   "version": "3.8.16"
  },
  "orig_nbformat": 4
 },
 "nbformat": 4,
 "nbformat_minor": 2
}
