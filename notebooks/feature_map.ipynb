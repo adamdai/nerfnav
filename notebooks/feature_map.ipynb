{
 "cells": [
  {
   "cell_type": "code",
   "execution_count": null,
   "metadata": {},
   "outputs": [],
   "source": [
    "import numpy as np\n",
    "import os\n",
    "from matplotlib import image\n",
    "import matplotlib.pyplot as plt\n",
    "import plotly.graph_objects as go\n",
    "import plotly.express as px\n",
    "import cv2 as cv\n",
    "\n",
    "from terrain_nerf.utils import pc_plot_trace\n",
    "from terrain_nerf.feature_map import FeatureMap, px_to_global, depth_to_global\n",
    "\n",
    "# autoreload\n",
    "%load_ext autoreload\n",
    "%autoreload 2"
   ]
  },
  {
   "attachments": {},
   "cell_type": "markdown",
   "metadata": {},
   "source": [
    "Load global image"
   ]
  },
  {
   "cell_type": "code",
   "execution_count": null,
   "metadata": {},
   "outputs": [],
   "source": [
    "# Global image\n",
    "\n",
    "UNREAL_PLAYER_START = np.array([-117252.054688, 264463.03125, 25148.908203])\n",
    "UNREAL_GOAL = np.array([-83250.0, 258070.0, 24860.0])\n",
    "\n",
    "global_img = cv.imread('../data/airsim/images/test_scenario.png')\n",
    "fig = px.imshow(global_img)\n",
    "fig.update_layout(width=1600, height=800)\n",
    "fig.show()"
   ]
  },
  {
   "cell_type": "code",
   "execution_count": null,
   "metadata": {},
   "outputs": [],
   "source": [
    "# Create feature map\n",
    "start_px = (271, 257)\n",
    "goal_px = (170, 808)\n",
    "\n",
    "feat_map = FeatureMap(global_img, start_px, goal_px, UNREAL_PLAYER_START, UNREAL_GOAL)"
   ]
  },
  {
   "attachments": {},
   "cell_type": "markdown",
   "metadata": {},
   "source": [
    "Local rover image and depth image"
   ]
  },
  {
   "cell_type": "code",
   "execution_count": null,
   "metadata": {},
   "outputs": [],
   "source": [
    "# Rover image taken from start location\n",
    "rover_img = image.imread('../data/airsim/images/front_1688104627.4594698.png')\n",
    "depth = np.load('../data/airsim/images/depth_1688104615.1395848.npy')\n",
    "\n",
    "depth_thresh = 50  # meters\n",
    "depth_img = depth.copy()\n",
    "depth_img[depth > depth_thresh] = depth_thresh\n",
    "\n",
    "# Show rover image and depth image side by side\n",
    "fig, ax = plt.subplots(1, 2, figsize=(20, 10))\n",
    "ax[0].imshow(rover_img)\n",
    "ax[1].imshow(depth_img)\n",
    "plt.show()"
   ]
  },
  {
   "cell_type": "code",
   "execution_count": null,
   "metadata": {},
   "outputs": [],
   "source": [
    "cam_params = {'w': 800,\n",
    "              'h': 600,\n",
    "              'cx': 400, \n",
    "              'cy': 300, \n",
    "              'fx': 400, \n",
    "              'fy': 300}"
   ]
  },
  {
   "cell_type": "code",
   "execution_count": null,
   "metadata": {},
   "outputs": [],
   "source": [
    "from terrain_nerf.utils import euler_to_R\n",
    "\n",
    "R = euler_to_R(0, 0, np.radians(0))\n",
    "#R = np.eye(3)"
   ]
  },
  {
   "cell_type": "code",
   "execution_count": null,
   "metadata": {},
   "outputs": [],
   "source": [
    "cam_pose = np.hstack((R, np.array([[0], [0], [0]])))"
   ]
  },
  {
   "attachments": {},
   "cell_type": "markdown",
   "metadata": {},
   "source": [
    "Local to global association"
   ]
  },
  {
   "cell_type": "code",
   "execution_count": null,
   "metadata": {},
   "outputs": [],
   "source": [
    "# Plot global image with local points overlaid\n",
    "fig, ax = plt.subplots(1, 1, figsize=(20, 10))\n",
    "xmin, xmax, ymin, ymax = feat_map.bounds\n",
    "ax.imshow(global_img, extent=[xmin, xmax, ymax, ymin])\n",
    "\n",
    "# For each pixel in rover image, get feature from global image\n",
    "G = depth_to_global(depth, cam_pose, cam_params, depth_thresh=100, patch_size=5)\n",
    "ax.scatter(G[:,0], G[:,1], c=G[:,2], s=1)\n",
    "\n",
    "plt.show()"
   ]
  },
  {
   "attachments": {},
   "cell_type": "markdown",
   "metadata": {},
   "source": [
    "Calculate local costs"
   ]
  },
  {
   "cell_type": "code",
   "execution_count": null,
   "metadata": {},
   "outputs": [],
   "source": [
    "fig = go.Figure(data=pc_plot_trace(G[:,:3], color=G[:,2]))\n",
    "fig.update_layout(width=1500, height=900, scene_aspectmode='data')\n",
    "fig.update_layout(scene={'yaxis': {'autorange': 'reversed'}})\n",
    "fig.show()"
   ]
  },
  {
   "cell_type": "code",
   "execution_count": null,
   "metadata": {},
   "outputs": [],
   "source": [
    "G = depth_to_global(depth, cam_pose, cam_params, depth_thresh=40, patch_size=5)"
   ]
  },
  {
   "cell_type": "code",
   "execution_count": null,
   "metadata": {},
   "outputs": [],
   "source": [
    "radius = 5\n",
    "x, y = G[:,0], G[:,1]\n",
    "max_depth = 40\n",
    "costmap = np.zeros((max_depth+1, 2*max_depth+1))\n",
    "for i in range(costmap.shape[0]):\n",
    "    for j in range(costmap.shape[1]):\n",
    "        x = max_depth - i\n",
    "        y = j - max_depth\n",
    "        dists = np.linalg.norm(G[:,:2] - np.array([x, y]))\n",
    "        points = G[dists < radius]\n",
    "        costmap[i,j] = np.mean(points[:,2])\n",
    "        #costmap[i,j] = np.sum((x - i)**2 + (y - (j-max_depth))**2 < radius**2)"
   ]
  },
  {
   "cell_type": "code",
   "execution_count": null,
   "metadata": {},
   "outputs": [],
   "source": [
    "# For each pixel, calculate variance of patch of points around it\n",
    "# Grid up space in XY\n",
    "# For each grid cell, calculate variance of points in that cell\n",
    "# Plot variance as heatmap\n",
    "max_depth = 40\n",
    "costmap = np.zeros((max_depth+1, 2*max_depth+1))\n",
    "bins = {}\n",
    "scale = 1\n",
    "start_px = (max_depth, max_depth)\n",
    "for x, y, z in G[:,:3]:\n",
    "    x_idx = start_px[0] - int(x / scale)\n",
    "    y_idx = start_px[1] + int(y / scale)\n",
    "    if (x_idx, y_idx) not in bins:\n",
    "        bins[(x_idx, y_idx)] = [z]\n",
    "    else:\n",
    "        bins[(x_idx, y_idx)].append(z)\n",
    "    costmap[x_idx, y_idx] = 1\n",
    "\n",
    "cost_vals = []\n",
    "for k, v in bins.items():\n",
    "    cost = np.var(v)\n",
    "    costmap[k] = cost\n",
    "    cost_vals.append([max_depth - k[0], k[1] - max_depth, cost])"
   ]
  },
  {
   "cell_type": "code",
   "execution_count": null,
   "metadata": {},
   "outputs": [],
   "source": [
    "plt.imshow(costmap)\n",
    "plt.colorbar()"
   ]
  },
  {
   "attachments": {},
   "cell_type": "markdown",
   "metadata": {},
   "source": [
    "Feature association"
   ]
  },
  {
   "cell_type": "code",
   "execution_count": null,
   "metadata": {},
   "outputs": [],
   "source": [
    "feat_map.cluster()\n",
    "cost = feat_map.generate_costmap()"
   ]
  },
  {
   "cell_type": "code",
   "execution_count": null,
   "metadata": {},
   "outputs": [],
   "source": [
    "feat_map.cluster()\n",
    "cost = feat_map.generate_costmap()\n",
    "\n",
    "# Show image and grayscale side by side\n",
    "fig, ax = plt.subplots(1, 2, figsize=(15, 5))\n",
    "ax[0].imshow(global_img)\n",
    "im = ax[1].imshow(cost, cmap='viridis')\n",
    "plt.colorbar(im, ax=ax[1], fraction=0.05, aspect=10)\n",
    "plt.show()"
   ]
  },
  {
   "cell_type": "code",
   "execution_count": null,
   "metadata": {},
   "outputs": [],
   "source": [
    "cluster_mask = feat_map.labels == 0\n",
    "local_mask = np.zeros_like(cost)\n",
    "local_cost_mat = np.zeros_like(cost)\n",
    "\n",
    "# for x, y, z, _, _ in G:\n",
    "#     i, j = feat_map.global_to_img(x, y)\n",
    "#     local_mask[i, j] = 1\n",
    "#     local_cost_mat[i, j] = 1.0\n",
    "\n",
    "for x, y, c in cost_vals:\n",
    "    i, j = feat_map.global_to_img(x, y)\n",
    "    local_mask[i, j] = 1\n",
    "    local_cost_mat[i, j] = c\n",
    "\n",
    "# Update cost for cluster\n",
    "mask = cluster_mask * local_cost_mat\n",
    "avg_cost = np.mean(mask[mask > 0])\n",
    "cost[cluster_mask] = avg_cost\n",
    "\n",
    "fig, ax = plt.subplots(1, 2, figsize=(15, 5))\n",
    "im = ax[0].imshow(cost, cmap='viridis')\n",
    "ax[1].imshow(cluster_mask * local_mask)"
   ]
  },
  {
   "cell_type": "code",
   "execution_count": null,
   "metadata": {},
   "outputs": [],
   "source": [
    "avg_cost"
   ]
  },
  {
   "cell_type": "code",
   "execution_count": null,
   "metadata": {},
   "outputs": [],
   "source": [
    "# For pixel (i,j) in rover image, get feature from global image\n",
    "\n",
    "for x, y, z, i, j in G:\n",
    "    local_feature = rover_img[int(i), int(j)]\n",
    "    global_feature = feat_map.get_img_feature(x, y)\n",
    "    similarity = np.dot(local_feature, global_feature)\n",
    "    #print(similarity) "
   ]
  },
  {
   "cell_type": "code",
   "execution_count": null,
   "metadata": {},
   "outputs": [],
   "source": []
  }
 ],
 "metadata": {
  "kernelspec": {
   "display_name": "nerf",
   "language": "python",
   "name": "python3"
  },
  "language_info": {
   "codemirror_mode": {
    "name": "ipython",
    "version": 3
   },
   "file_extension": ".py",
   "mimetype": "text/x-python",
   "name": "python",
   "nbconvert_exporter": "python",
   "pygments_lexer": "ipython3",
   "version": "3.8.16"
  },
  "orig_nbformat": 4
 },
 "nbformat": 4,
 "nbformat_minor": 2
}
